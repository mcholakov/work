{
 "cells": [
  {
   "cell_type": "code",
   "execution_count": 1,
   "metadata": {
    "colab": {
     "base_uri": "https://localhost:8080/",
     "height": 34
    },
    "colab_type": "code",
    "executionInfo": {
     "elapsed": 3199,
     "status": "ok",
     "timestamp": 1544766738806,
     "user": {
      "displayName": "Мехмед Чолаков",
      "photoUrl": "",
      "userId": "16230660606517917199"
     },
     "user_tz": -120
    },
    "id": "XxTXlbXprJ-B",
    "outputId": "1cb50235-6596-474f-a88b-f0e7e4d98d98"
   },
   "outputs": [
    {
     "name": "stdout",
     "output_type": "stream",
     "text": [
      "Done\n"
     ]
    }
   ],
   "source": [
    "from zipfile import ZipFile\n",
    "file_name = \"data_flowers.zip\"\n",
    "\n",
    "with ZipFile(file_name, \"r\") as zip:\n",
    "  zip.extractall()\n",
    "  print(\"Done\")"
   ]
  },
  {
   "cell_type": "code",
   "execution_count": 0,
   "metadata": {
    "colab": {},
    "colab_type": "code",
    "id": "sz3rsfCQxoa0"
   },
   "outputs": [],
   "source": [
    "%matplotlib inline"
   ]
  },
  {
   "cell_type": "code",
   "execution_count": 0,
   "metadata": {
    "colab": {},
    "colab_type": "code",
    "id": "Cz2vw4m7xpyd"
   },
   "outputs": [],
   "source": [
    "import numpy as np\n",
    "import pandas as pd\n",
    "import matplotlib.pyplot as plt\n",
    "\n",
    "import os\n",
    "\n",
    "from skimage.io import imread\n",
    "from skimage.transform import resize\n",
    "\n",
    "from sklearn.model_selection import train_test_split\n",
    "from sklearn.model_selection import RandomizedSearchCV\n",
    "from sklearn.preprocessing import LabelEncoder\n",
    "\n",
    "import tensorflow as tf\n",
    "from tensorflow.keras.wrappers.scikit_learn import KerasClassifier\n",
    "from tensorflow.keras.utils import to_categorical\n",
    "from tensorflow.keras.models import Sequential\n",
    "from tensorflow.keras.layers import Conv2D, MaxPooling2D, BatchNormalization, Dense, Flatten, Dropout\n",
    "from tensorflow.keras.optimizers import Adam"
   ]
  },
  {
   "cell_type": "markdown",
   "metadata": {
    "colab_type": "text",
    "id": "cL2zEghNdJRj"
   },
   "source": [
    "\n",
    "# Classification of flowers"
   ]
  },
  {
   "cell_type": "markdown",
   "metadata": {
    "colab_type": "text",
    "id": "FIoZSbjbbYji"
   },
   "source": [
    "## Author: Mehmed Cholakov"
   ]
  },
  {
   "cell_type": "markdown",
   "metadata": {
    "colab_type": "text",
    "id": "OUwSfmmyboSy"
   },
   "source": [
    "### Abstract:\n",
    "The aim of the study is to train a neural network to predict 5 types of flowers (daisy, dandelion, rose, sunflower, tulip). A convolutional neural network is trained."
   ]
  },
  {
   "cell_type": "markdown",
   "metadata": {
    "colab_type": "text",
    "id": "DzBz4PFmby0E"
   },
   "source": [
    "\n",
    "### Data Analysis\n",
    "The data contains 4242 images of 5 types of flowers in separate folders:\n",
    " - daisy\n",
    " - Dandelion\n",
    " - rose\n",
    " - sunflower\n",
    " - Tulip\n",
    "\n",
    "After reading the images (\"image_data\"), I also separate the categories (\"image_labels\")."
   ]
  },
  {
   "cell_type": "code",
   "execution_count": 3,
   "metadata": {
    "colab": {
     "base_uri": "https://localhost:8080/",
     "height": 71
    },
    "colab_type": "code",
    "executionInfo": {
     "elapsed": 39611,
     "status": "ok",
     "timestamp": 1544766804513,
     "user": {
      "displayName": "Мехмед Чолаков",
      "photoUrl": "",
      "userId": "16230660606517917199"
     },
     "user_tz": -120
    },
    "id": "NIsbdgsyxxJ8",
    "outputId": "5e51ee06-ea0b-4ed6-f3f0-68b13b0e7b53"
   },
   "outputs": [
    {
     "name": "stderr",
     "output_type": "stream",
     "text": [
      "/usr/local/lib/python3.6/dist-packages/skimage/transform/_warps.py:84: UserWarning: The default mode, 'constant', will be changed to 'reflect' in skimage 0.15.\n",
      "  warn(\"The default mode, 'constant', will be changed to 'reflect' in \"\n"
     ]
    }
   ],
   "source": [
    "folders = os.listdir(\"data_flowers/flowers/\")\n",
    "image_data = []\n",
    "image_label = []\n",
    "valid_extensions_list = ['jpg','tif','png','bmp']\n",
    "for dir_class in folders:\n",
    "    for file in os.listdir(\"data_flowers/flowers/\" + dir_class):\n",
    "        ext = file.split('.')[-1]\n",
    "        if ext in valid_extensions_list:\n",
    "            data = imread(\"data_flowers/flowers/\" + dir_class + '/' + file)\n",
    "            resized_data = resize(data, (100,100))\n",
    "            image_data.append(resized_data)\n",
    "            image_label.append(dir_class)\n",
    "        else:\n",
    "            pass"
   ]
  },
  {
   "cell_type": "code",
   "execution_count": 0,
   "metadata": {
    "colab": {},
    "colab_type": "code",
    "id": "X6d5YTNdyxGk"
   },
   "outputs": [],
   "source": [
    "image_data = np.array(image_data, dtype = \"float32\")"
   ]
  },
  {
   "cell_type": "markdown",
   "metadata": {
    "colab_type": "text",
    "id": "drQloEQEgo6a"
   },
   "source": [
    "### Data preparation\n",
    "\n"
   ]
  },
  {
   "cell_type": "markdown",
   "metadata": {
    "colab_type": "text",
    "id": "HUL3_19ahe8J"
   },
   "source": [
    "\n",
    "#### 1. We share the data"
   ]
  },
  {
   "cell_type": "markdown",
   "metadata": {
    "colab_type": "text",
    "id": "P65A4ps1fHsJ"
   },
   "source": [
    "\n",
    "Normalize RGB values ​​between 0 and 1. Then the flowers I'm going to predict convert to numeric labels. Finally, I stir the data."
   ]
  },
  {
   "cell_type": "code",
   "execution_count": 0,
   "metadata": {
    "colab": {},
    "colab_type": "code",
    "id": "IrT9XRIwy0o8"
   },
   "outputs": [],
   "source": [
    "image_data = image_data / 255.0"
   ]
  },
  {
   "cell_type": "code",
   "execution_count": 6,
   "metadata": {
    "colab": {
     "base_uri": "https://localhost:8080/",
     "height": 119
    },
    "colab_type": "code",
    "executionInfo": {
     "elapsed": 622,
     "status": "ok",
     "timestamp": 1544766823792,
     "user": {
      "displayName": "Мехмед Чолаков",
      "photoUrl": "",
      "userId": "16230660606517917199"
     },
     "user_tz": -120
    },
    "id": "FPWvYZHFtQHK",
    "outputId": "f54c41e4-d899-44b3-cddc-331d4458eddb"
   },
   "outputs": [
    {
     "data": {
      "text/plain": [
       "dandelion    1052\n",
       "tulip         984\n",
       "rose          784\n",
       "daisy         769\n",
       "sunflower     734\n",
       "dtype: int64"
      ]
     },
     "execution_count": 6,
     "metadata": {
      "tags": []
     },
     "output_type": "execute_result"
    }
   ],
   "source": [
    "image_label = pd.Series(image_label)\n",
    "image_label.value_counts()"
   ]
  },
  {
   "cell_type": "code",
   "execution_count": 7,
   "metadata": {
    "colab": {
     "base_uri": "https://localhost:8080/",
     "height": 119
    },
    "colab_type": "code",
    "executionInfo": {
     "elapsed": 616,
     "status": "ok",
     "timestamp": 1544766825986,
     "user": {
      "displayName": "Мехмед Чолаков",
      "photoUrl": "",
      "userId": "16230660606517917199"
     },
     "user_tz": -120
    },
    "id": "o55mLL7yy98E",
    "outputId": "fbfdee29-9653-4dfb-8a18-0ab50bef7af5"
   },
   "outputs": [
    {
     "data": {
      "text/plain": [
       "1    1052\n",
       "4     984\n",
       "2     784\n",
       "0     769\n",
       "3     734\n",
       "dtype: int64"
      ]
     },
     "execution_count": 7,
     "metadata": {
      "tags": []
     },
     "output_type": "execute_result"
    }
   ],
   "source": [
    "label_dumies = pd.get_dummies(image_label)\n",
    "labels =  label_dumies.values.argmax(1)\n",
    "pd.value_counts(labels)"
   ]
  },
  {
   "cell_type": "code",
   "execution_count": 0,
   "metadata": {
    "colab": {},
    "colab_type": "code",
    "id": "6SxRBuGbyCLP"
   },
   "outputs": [],
   "source": [
    "union_list = list(zip(image_data, labels))\n",
    "np.random.shuffle(union_list)\n",
    "image_data, labels = zip(*union_list)"
   ]
  },
  {
   "cell_type": "code",
   "execution_count": 0,
   "metadata": {
    "colab": {},
    "colab_type": "code",
    "id": "0dwiUGjV5OXu"
   },
   "outputs": [],
   "source": [
    "image_data = np.array(image_data)\n",
    "labels = np.array(labels)"
   ]
  },
  {
   "cell_type": "markdown",
   "metadata": {
    "colab_type": "text",
    "id": "OWtVHjuHhoMh"
   },
   "source": [
    "\n",
    "#### 2. Separate training and validation data.\n",
    "\n",
    "Once I divide the data I show the ratio of the classes in the data"
   ]
  },
  {
   "cell_type": "code",
   "execution_count": 0,
   "metadata": {
    "colab": {},
    "colab_type": "code",
    "id": "qmuNCOi9pVBP"
   },
   "outputs": [],
   "source": [
    "x_train, x_validate, y_train, y_validate = train_test_split(image_data, labels, test_size = 0.20, random_state = 42, stratify = labels)"
   ]
  },
  {
   "cell_type": "code",
   "execution_count": 0,
   "metadata": {
    "colab": {},
    "colab_type": "code",
    "id": "uvqnGBjVpYrH"
   },
   "outputs": [],
   "source": [
    "def ploting_class(data):\n",
    "    bar = pd.value_counts(data)\n",
    "    plt.bar(bar.index, bar.values)\n",
    "    plt.xticks(bar.index)\n",
    "    plt.xlabel(\"Class\")\n",
    "    plt.ylabel(\"Count\")\n",
    "    plt.show()\n",
    "    print(\"Cases 0 - daisy: {:.3f}% of all\".format(bar[0] / len(data) * 100))\n",
    "    print(\"Cases 1 - dandelion: {:.3f}% of all\".format(bar[1] / len(data) * 100))\n",
    "    print(\"Cases 2 - rose: {:.3f}% of all\".format(bar[2] / len(data) * 100))\n",
    "    print(\"Cases 3 - sunflower: {:.3f}% of all\".format(bar[3] / len(data) * 100))\n",
    "    print(\"Cases 4 - tulip: {:.3f}% of all\".format(bar[4] / len(data) * 100))"
   ]
  },
  {
   "cell_type": "code",
   "execution_count": 12,
   "metadata": {
    "colab": {
     "base_uri": "https://localhost:8080/",
     "height": 364
    },
    "colab_type": "code",
    "executionInfo": {
     "elapsed": 608,
     "status": "ok",
     "timestamp": 1544766852664,
     "user": {
      "displayName": "Мехмед Чолаков",
      "photoUrl": "",
      "userId": "16230660606517917199"
     },
     "user_tz": -120
    },
    "id": "wAFPPp7mpZAO",
    "outputId": "498820a4-0e06-44e4-c10d-6c9619fb6d30"
   },
   "outputs": [
    {
     "data": {
      "image/png": "[encoded data removed]",
      "text/plain": [
       "<matplotlib.figure.Figure at 0x7fa40c308da0>"
      ]
     },
     "metadata": {
      "tags": []
     },
     "output_type": "display_data"
    },
    {
     "name": "stdout",
     "output_type": "stream",
     "text": [
      "Cases 0 - daisy: 17.789% of all\n",
      "Cases 1 - dandelion: 24.335% of all\n",
      "Cases 2 - rose: 18.136% of all\n",
      "Cases 3 - sunflower: 16.979% of all\n",
      "Cases 4 - tulip: 22.762% of all\n"
     ]
    }
   ],
   "source": [
    "ploting_class(labels)"
   ]
  },
  {
   "cell_type": "code",
   "execution_count": 13,
   "metadata": {
    "colab": {
     "base_uri": "https://localhost:8080/",
     "height": 364
    },
    "colab_type": "code",
    "executionInfo": {
     "elapsed": 795,
     "status": "ok",
     "timestamp": 1544766859323,
     "user": {
      "displayName": "Мехмед Чолаков",
      "photoUrl": "",
      "userId": "16230660606517917199"
     },
     "user_tz": -120
    },
    "id": "6pG4Yfl-peb4",
    "outputId": "fdb7b3c2-457a-400e-b97a-f638bc27704c"
   },
   "outputs": [
    {
     "data": {
      "image/png": "[encoded data removed]",
      "text/plain": [
       "<matplotlib.figure.Figure at 0x7fa409a7b160>"
      ]
     },
     "metadata": {
      "tags": []
     },
     "output_type": "display_data"
    },
    {
     "name": "stdout",
     "output_type": "stream",
     "text": [
      "Cases 0 - daisy: 17.785% of all\n",
      "Cases 1 - dandelion: 24.349% of all\n",
      "Cases 2 - rose: 18.132% of all\n",
      "Cases 3 - sunflower: 16.975% of all\n",
      "Cases 4 - tulip: 22.759% of all\n"
     ]
    }
   ],
   "source": [
    "ploting_class(y_train)"
   ]
  },
  {
   "cell_type": "code",
   "execution_count": 14,
   "metadata": {
    "colab": {
     "base_uri": "https://localhost:8080/",
     "height": 364
    },
    "colab_type": "code",
    "executionInfo": {
     "elapsed": 568,
     "status": "ok",
     "timestamp": 1544766862068,
     "user": {
      "displayName": "Мехмед Чолаков",
      "photoUrl": "",
      "userId": "16230660606517917199"
     },
     "user_tz": -120
    },
    "id": "qDcG1UXRpeff",
    "outputId": "6f7978cf-6cd0-4fb6-8444-1873965b2998"
   },
   "outputs": [
    {
     "data": {
      "image/png": "[encoded data removed]",
      "text/plain": [
       "<matplotlib.figure.Figure at 0x7fa40c308f60>"
      ]
     },
     "metadata": {
      "tags": []
     },
     "output_type": "display_data"
    },
    {
     "name": "stdout",
     "output_type": "stream",
     "text": [
      "Cases 0 - daisy: 17.803% of all\n",
      "Cases 1 - dandelion: 24.277% of all\n",
      "Cases 2 - rose: 18.150% of all\n",
      "Cases 3 - sunflower: 16.994% of all\n",
      "Cases 4 - tulip: 22.775% of all\n"
     ]
    }
   ],
   "source": [
    "ploting_class(y_validate)"
   ]
  },
  {
   "cell_type": "code",
   "execution_count": 15,
   "metadata": {
    "colab": {
     "base_uri": "https://localhost:8080/",
     "height": 34
    },
    "colab_type": "code",
    "executionInfo": {
     "elapsed": 877,
     "status": "ok",
     "timestamp": 1544766868309,
     "user": {
      "displayName": "Мехмед Чолаков",
      "photoUrl": "",
      "userId": "16230660606517917199"
     },
     "user_tz": -120
    },
    "id": "dW2EgAbRp6DS",
    "outputId": "8b787c10-9c28-4ff5-db5a-355e17da6af2"
   },
   "outputs": [
    {
     "data": {
      "text/plain": [
       "(3458, 100, 100, 3)"
      ]
     },
     "execution_count": 15,
     "metadata": {
      "tags": []
     },
     "output_type": "execute_result"
    }
   ],
   "source": [
    "x_train.shape"
   ]
  },
  {
   "cell_type": "code",
   "execution_count": 16,
   "metadata": {
    "colab": {
     "base_uri": "https://localhost:8080/",
     "height": 34
    },
    "colab_type": "code",
    "executionInfo": {
     "elapsed": 595,
     "status": "ok",
     "timestamp": 1544766870123,
     "user": {
      "displayName": "Мехмед Чолаков",
      "photoUrl": "",
      "userId": "16230660606517917199"
     },
     "user_tz": -120
    },
    "id": "z7uj3ib8p6GC",
    "outputId": "e68f20e3-b12c-41de-ce20-8a09b3dc979a"
   },
   "outputs": [
    {
     "data": {
      "text/plain": [
       "(865, 100, 100, 3)"
      ]
     },
     "execution_count": 16,
     "metadata": {
      "tags": []
     },
     "output_type": "execute_result"
    }
   ],
   "source": [
    "x_validate.shape"
   ]
  },
  {
   "cell_type": "code",
   "execution_count": 0,
   "metadata": {
    "colab": {},
    "colab_type": "code",
    "id": "7uBG19rGMRVA"
   },
   "outputs": [],
   "source": [
    "le = LabelEncoder()\n",
    "y_train = le.fit_transform(y_train)\n",
    "y_validate = le.fit_transform(y_validate)\n",
    "y_train = to_categorical(y_train, 5)\n",
    "y_validate = to_categorical(y_validate, 5)"
   ]
  },
  {
   "cell_type": "markdown",
   "metadata": {
    "colab_type": "text",
    "id": "XDcKBQh1P8fD"
   },
   "source": [
    "\n",
    "### Deep Learning\n",
    "#### 1. Convolutional Neural Network\n",
    "I create a convolutional neural network with the following layers:\n",
    " - Conv2D - 2D Conversion Layer - 32 filters 3x3.\n",
    " - MaxPooling2D.\n",
    " - BatchNormalization - Structure of the normalization batch.\n",
    "Normalizes the activation of the previous layer in each batch, i. Applies a transformation that maintains the mean activation close to 0 and the standard deviation of activation close to 1.\n",
    " - Conv2D - 2D Conversion Layer - 64 filters 5x5.\n",
    " - MaxPooling2D.\n",
    " - BatchNormalization.\n",
    " - Flatten - Compare input. Does not affect the batch size.\n",
    " - Dense.\n",
    " - Dropout - Applies dropping the input.\n",
    "Dropping occurs by accidentally setting a fraction of the input units to 0 at each update during the training time, helping to prevent over-tuning.\n",
    " - Dense."
   ]
  },
  {
   "cell_type": "code",
   "execution_count": 0,
   "metadata": {
    "colab": {},
    "colab_type": "code",
    "id": "FFTKQ52vqGAd"
   },
   "outputs": [],
   "source": [
    "model = Sequential([\n",
    "  Conv2D(32, (3, 3), activation = 'relu', padding = \"Same\", input_shape = (100, 100, 3)),\n",
    "  MaxPooling2D(),\n",
    "  BatchNormalization(),\n",
    "  Conv2D(64, (5, 5), activation = 'relu', padding = \"Same\"),\n",
    "  MaxPooling2D(),\n",
    "  BatchNormalization(),\n",
    "  Flatten(),\n",
    "  Dense(128, activation='relu'),\n",
    "  Dropout(0.2),\n",
    "  Dense(5, activation = 'softmax')\n",
    "])"
   ]
  },
  {
   "cell_type": "markdown",
   "metadata": {
    "colab_type": "text",
    "id": "53f1MUwKbDgv"
   },
   "source": [
    "\n",
    "Once I've created the model, we can see the parameters in the individual layers."
   ]
  },
  {
   "cell_type": "code",
   "execution_count": 22,
   "metadata": {
    "colab": {
     "base_uri": "https://localhost:8080/",
     "height": 476
    },
    "colab_type": "code",
    "executionInfo": {
     "elapsed": 587,
     "status": "ok",
     "timestamp": 1544767056946,
     "user": {
      "displayName": "Мехмед Чолаков",
      "photoUrl": "",
      "userId": "16230660606517917199"
     },
     "user_tz": -120
    },
    "id": "xZvYQDXjqtLL",
    "outputId": "b5740c75-be40-41f7-e1e0-e90d27752352"
   },
   "outputs": [
    {
     "name": "stdout",
     "output_type": "stream",
     "text": [
      "_________________________________________________________________\n",
      "Layer (type)                 Output Shape              Param #   \n",
      "=================================================================\n",
      "conv2d (Conv2D)              (None, 100, 100, 32)      896       \n",
      "_________________________________________________________________\n",
      "max_pooling2d (MaxPooling2D) (None, 50, 50, 32)        0         \n",
      "_________________________________________________________________\n",
      "batch_normalization (BatchNo (None, 50, 50, 32)        128       \n",
      "_________________________________________________________________\n",
      "conv2d_1 (Conv2D)            (None, 50, 50, 64)        51264     \n",
      "_________________________________________________________________\n",
      "max_pooling2d_1 (MaxPooling2 (None, 25, 25, 64)        0         \n",
      "_________________________________________________________________\n",
      "batch_normalization_1 (Batch (None, 25, 25, 64)        256       \n",
      "_________________________________________________________________\n",
      "flatten (Flatten)            (None, 40000)             0         \n",
      "_________________________________________________________________\n",
      "dense (Dense)                (None, 128)               5120128   \n",
      "_________________________________________________________________\n",
      "dropout (Dropout)            (None, 128)               0         \n",
      "_________________________________________________________________\n",
      "dense_1 (Dense)              (None, 5)                 645       \n",
      "=================================================================\n",
      "Total params: 5,173,317\n",
      "Trainable params: 5,173,125\n",
      "Non-trainable params: 192\n",
      "_________________________________________________________________\n"
     ]
    }
   ],
   "source": [
    "model.summary()"
   ]
  },
  {
   "cell_type": "markdown",
   "metadata": {
    "colab_type": "text",
    "id": "NuuilYtXcQ96"
   },
   "source": [
    "\n",
    "#### 2. Neural Network Training\n",
    " - I train the model\n",
    " - I show the curves of the accuracy and function of the loss.\n",
    " - I check the model how it handles the validation data."
   ]
  },
  {
   "cell_type": "code",
   "execution_count": 0,
   "metadata": {
    "colab": {},
    "colab_type": "code",
    "id": "y8zUkKddQlHO"
   },
   "outputs": [],
   "source": [
    "learn_rate = 0.001\n",
    "model.compile(loss = \"categorical_crossentropy\", optimizer = Adam(lr = learn_rate), metrics = [\"accuracy\"])"
   ]
  },
  {
   "cell_type": "code",
   "execution_count": 0,
   "metadata": {
    "colab": {},
    "colab_type": "code",
    "id": "fhmbogJfQoUa"
   },
   "outputs": [],
   "source": [
    "batch_size = 64\n",
    "epochs = 20"
   ]
  },
  {
   "cell_type": "code",
   "execution_count": 26,
   "metadata": {
    "colab": {
     "base_uri": "https://localhost:8080/",
     "height": 697
    },
    "colab_type": "code",
    "executionInfo": {
     "elapsed": 2627821,
     "status": "ok",
     "timestamp": 1544769727930,
     "user": {
      "displayName": "Мехмед Чолаков",
      "photoUrl": "",
      "userId": "16230660606517917199"
     },
     "user_tz": -120
    },
    "id": "X9MCnveZV558",
    "outputId": "ac3fa9ba-7854-491c-c0ce-53b2d91b5dca"
   },
   "outputs": [
    {
     "name": "stdout",
     "output_type": "stream",
     "text": [
      "Epoch 1/20\n",
      "3458/3458 [==============================] - 130s 38ms/step - loss: 1.2518 - acc: 0.4858\n",
      "Epoch 2/20\n",
      "3458/3458 [==============================] - 130s 38ms/step - loss: 0.8957 - acc: 0.6484\n",
      "Epoch 3/20\n",
      "3458/3458 [==============================] - 129s 37ms/step - loss: 0.6389 - acc: 0.7588\n",
      "Epoch 4/20\n",
      "3458/3458 [==============================] - 131s 38ms/step - loss: 0.3790 - acc: 0.8589\n",
      "Epoch 5/20\n",
      "3458/3458 [==============================] - 130s 37ms/step - loss: 0.2184 - acc: 0.9320\n",
      "Epoch 6/20\n",
      "3458/3458 [==============================] - 129s 37ms/step - loss: 0.1144 - acc: 0.9647\n",
      "Epoch 7/20\n",
      "3458/3458 [==============================] - 130s 38ms/step - loss: 0.0725 - acc: 0.9795\n",
      "Epoch 8/20\n",
      "3458/3458 [==============================] - 129s 37ms/step - loss: 0.0435 - acc: 0.9893\n",
      "Epoch 9/20\n",
      "3458/3458 [==============================] - 130s 38ms/step - loss: 0.0300 - acc: 0.9936\n",
      "Epoch 10/20\n",
      "3458/3458 [==============================] - 129s 37ms/step - loss: 0.0381 - acc: 0.9902\n",
      "Epoch 11/20\n",
      "3458/3458 [==============================] - 130s 37ms/step - loss: 0.0241 - acc: 0.9945\n",
      "Epoch 12/20\n",
      "3458/3458 [==============================] - 130s 38ms/step - loss: 0.0222 - acc: 0.9939\n",
      "Epoch 13/20\n",
      "3458/3458 [==============================] - 131s 38ms/step - loss: 0.0310 - acc: 0.9902\n",
      "Epoch 14/20\n",
      "3458/3458 [==============================] - 135s 39ms/step - loss: 0.0796 - acc: 0.9783\n",
      "Epoch 15/20\n",
      "3458/3458 [==============================] - 134s 39ms/step - loss: 0.1390 - acc: 0.9549\n",
      "Epoch 16/20\n",
      "3458/3458 [==============================] - 135s 39ms/step - loss: 0.0969 - acc: 0.9679\n",
      "Epoch 17/20\n",
      "3458/3458 [==============================] - 134s 39ms/step - loss: 0.0515 - acc: 0.9844\n",
      "Epoch 18/20\n",
      "3458/3458 [==============================] - 135s 39ms/step - loss: 0.0416 - acc: 0.9881\n",
      "Epoch 19/20\n",
      "3458/3458 [==============================] - 133s 39ms/step - loss: 0.0233 - acc: 0.9919\n",
      "Epoch 20/20\n",
      "3458/3458 [==============================] - 133s 39ms/step - loss: 0.0242 - acc: 0.9939\n"
     ]
    }
   ],
   "source": [
    "history = model.fit(x_train, y_train, batch_size = batch_size, epochs = epochs, verbose = 1)"
   ]
  },
  {
   "cell_type": "code",
   "execution_count": 0,
   "metadata": {
    "colab": {},
    "colab_type": "code",
    "id": "cAR3b7t2NCpA"
   },
   "outputs": [],
   "source": [
    "def plot_los_accuracy(history):\n",
    "    accuracy = history.history['acc']\n",
    "    loss = history.history['loss']\n",
    "    epochs = range(len(accuracy))\n",
    "    plt.plot(epochs, accuracy, 'b', label = 'Training Accuracy')\n",
    "    plt.title('Training accuracy')\n",
    "    plt.legend()\n",
    "    plt.figure()\n",
    "    plt.plot(epochs, loss, 'b', label = 'Training Loss')\n",
    "    plt.title('Training loss')\n",
    "    plt.legend()\n",
    "    plt.show()"
   ]
  },
  {
   "cell_type": "code",
   "execution_count": 28,
   "metadata": {
    "colab": {
     "base_uri": "https://localhost:8080/",
     "height": 543
    },
    "colab_type": "code",
    "executionInfo": {
     "elapsed": 1075,
     "status": "ok",
     "timestamp": 1544769820636,
     "user": {
      "displayName": "Мехмед Чолаков",
      "photoUrl": "",
      "userId": "16230660606517917199"
     },
     "user_tz": -120
    },
    "id": "Ky5q6IbuNsig",
    "outputId": "c5d57cea-666f-402e-fb8d-05106bdf6fc0"
   },
   "outputs": [
    {
     "data": {
      "image/png": "[encoded data removed]",
      "text/plain": [
       "<matplotlib.figure.Figure at 0x7fa4056c4e10>"
      ]
     },
     "metadata": {
      "tags": []
     },
     "output_type": "display_data"
    },
    {
     "data": {
      "image/png": "[encoded data removed]",
      "text/plain": [
       "<matplotlib.figure.Figure at 0x7fa4056daba8>"
      ]
     },
     "metadata": {
      "tags": []
     },
     "output_type": "display_data"
    }
   ],
   "source": [
    "plot_los_accuracy(history)"
   ]
  },
  {
   "cell_type": "code",
   "execution_count": 30,
   "metadata": {
    "colab": {
     "base_uri": "https://localhost:8080/",
     "height": 51
    },
    "colab_type": "code",
    "executionInfo": {
     "elapsed": 8427,
     "status": "ok",
     "timestamp": 1544769961665,
     "user": {
      "displayName": "Мехмед Чолаков",
      "photoUrl": "",
      "userId": "16230660606517917199"
     },
     "user_tz": -120
    },
    "id": "2giQ7CXhtJBA",
    "outputId": "be912c7c-6e8b-4561-a163-28a2c32ff34b"
   },
   "outputs": [
    {
     "name": "stdout",
     "output_type": "stream",
     "text": [
      "865/865 [==============================] - 8s 9ms/step\n"
     ]
    },
    {
     "data": {
      "text/plain": [
       "[2.8317897157172935, 0.5410404624277456]"
      ]
     },
     "execution_count": 30,
     "metadata": {
      "tags": []
     },
     "output_type": "execute_result"
    }
   ],
   "source": [
    "model.evaluate(x_validate, y_validate)"
   ]
  },
  {
   "cell_type": "markdown",
   "metadata": {
    "colab_type": "text",
    "id": "MBtaOe_DtE9E"
   },
   "source": [
    "\n",
    "#### 3. Error analysis\n",
    "Let's predict that human error is 1%. We have ** Variance - 45% **. First, we can optimize hyperparameters. Once we've optimized hyperparamas, it's best to generate more input data."
   ]
  },
  {
   "cell_type": "markdown",
   "metadata": {
    "colab_type": "text",
    "id": "XvRTEdLC1DRI"
   },
   "source": [
    "\n",
    "### Conclusion\n",
    "There is a small amount of data for the task. We can generate more input data or rewrite one of the neural networks (VGG-19, AlexNet, etc.)"
   ]
  }
 ],
 "metadata": {
  "colab": {
   "collapsed_sections": [],
   "name": "Exam.ipynb",
   "provenance": [],
   "version": "0.3.2"
  },
  "kernelspec": {
   "display_name": "Python 3",
   "language": "python",
   "name": "python3"
  },
  "language_info": {
   "codemirror_mode": {
    "name": "ipython",
    "version": 3
   },
   "file_extension": ".py",
   "mimetype": "text/x-python",
   "name": "python",
   "nbconvert_exporter": "python",
   "pygments_lexer": "ipython3",
   "version": "3.7.1"
  }
 },
 "nbformat": 4,
 "nbformat_minor": 1
}
