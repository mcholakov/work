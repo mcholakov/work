{
 "cells": [
  {
   "cell_type": "code",
   "execution_count": 1,
   "metadata": {},
   "outputs": [],
   "source": [
    "%matplotlib inline"
   ]
  },
  {
   "cell_type": "code",
   "execution_count": 2,
   "metadata": {},
   "outputs": [],
   "source": [
    "import numpy as np\n",
    "import pandas as pd\n",
    "import matplotlib.pyplot as plt\n",
    "\n",
    "from sklearn.model_selection import train_test_split\n",
    "from sklearn.preprocessing import MinMaxScaler\n",
    "\n",
    "from sklearn.model_selection import GridSearchCV\n",
    "from sklearn.linear_model import LogisticRegression\n",
    "from sklearn.svm import SVC\n",
    "from sklearn.tree import DecisionTreeClassifier\n",
    "from sklearn.ensemble import RandomForestClassifier\n",
    "\n",
    "from sklearn.metrics import accuracy_score\n",
    "from sklearn.metrics import f1_score"
   ]
  },
  {
   "cell_type": "markdown",
   "metadata": {},
   "source": [
    "# Оценка на състоянието на мостовете в Ню Йорк"
   ]
  },
  {
   "cell_type": "markdown",
   "metadata": {},
   "source": [
    "## Автор: Мехмед Чолаков"
   ]
  },
  {
   "cell_type": "markdown",
   "metadata": {},
   "source": [
    "### Абстракт:\n",
    "Целта на изследване да се обучи алгоритъм, който да предсказва състоянието на мостовете с помощта на дании от NYS - Департамент на транспортните мостови условия. След предсказване на състояниетона, първо да бъдат инспектирани мостовето в не добро състояние: рейтинг по-малко от 5. Обучени са 6 алгоритъма. "
   ]
  },
  {
   "cell_type": "markdown",
   "metadata": {},
   "source": [
    "### Въведение\n",
    "Мостът е конструкция, изградена с цел безопасното преминаване на пешеходци, моторни превозни средства или влакове над физически препятствия като проход, долина, път, жп линии, река, залив или друг воден басейн. Мостовете са едно от най-старите инженерни изобретения на човечеството. Конструкциите им варират в зависимост от функцията на моста, характера на терена, използвания за направата материал и наличните средства за изграждане.\n",
    "\n",
    "#### Въпрос е следният (класификация): В какво състояние е моста, познавайки други променливи?"
   ]
  },
  {
   "cell_type": "markdown",
   "metadata": {},
   "source": [
    "### Анализ на данните\n",
    "Таблицата, която ще използвам е от NYS - Департамент на транспортните мостови условия, съответно 10 променливи и 17 504 записа.\n",
    " - Регионален код - Държавен департамент на транспорта в Ню Йорк, в който се намира мостът:\n",
    " - Име на окръг - Окръгът, в който се намира мостът.\n",
    " - Община - Градът или общината, в която се намира мостът.\n",
    " - Местоположение - Разказващо местоположение на моста, свързан с кръстовището на американския или щатския маршрут, главен воден път, или най-близкия град, село, махали или топографски признак.\n",
    " - Маршрутизатор и референтен маркер - Писмено описание на магистралата или друга транспортна характеристика (път, маршрут и      т.н.)\n",
    " - Собственик - Собственик на мост (държава, орган, местен, друг).\n",
    " - Година - Годината, в която е построен мостът.\n",
    " - Дата - Дата на последното инспектиране на моста.\n",
    " - Статус - SD = Структурно недостатъчно; FO = функционално остарели; N = Нито (федерални стандарти).\n",
    " - Рейтинг на състоянието - Рейтинг на моста. Рейтинговата скала варира от 1 до 7, като 7 е в ново състояние и оценка от 5 или повече се счита за добро състояние"
   ]
  },
  {
   "cell_type": "code",
   "execution_count": 3,
   "metadata": {},
   "outputs": [],
   "source": [
    "bridge_data = pd.read_csv(\"Data/bridge.csv\")"
   ]
  },
  {
   "cell_type": "code",
   "execution_count": 4,
   "metadata": {},
   "outputs": [
    {
     "data": {
      "text/html": [
       "<div>\n",
       "<style scoped>\n",
       "    .dataframe tbody tr th:only-of-type {\n",
       "        vertical-align: middle;\n",
       "    }\n",
       "\n",
       "    .dataframe tbody tr th {\n",
       "        vertical-align: top;\n",
       "    }\n",
       "\n",
       "    .dataframe thead th {\n",
       "        text-align: right;\n",
       "    }\n",
       "</style>\n",
       "<table border=\"1\" class=\"dataframe\">\n",
       "  <thead>\n",
       "    <tr style=\"text-align: right;\">\n",
       "      <th></th>\n",
       "      <th>Region Code</th>\n",
       "      <th>County Name</th>\n",
       "      <th>Municipality</th>\n",
       "      <th>Location</th>\n",
       "      <th>Route Carried and Reference Marker</th>\n",
       "      <th>Owner</th>\n",
       "      <th>Year Built</th>\n",
       "      <th>Date Last Inspected</th>\n",
       "      <th>SD FO Status</th>\n",
       "      <th>Condition Rating</th>\n",
       "    </tr>\n",
       "  </thead>\n",
       "  <tbody>\n",
       "    <tr>\n",
       "      <th>0</th>\n",
       "      <td>1</td>\n",
       "      <td>Albany</td>\n",
       "      <td>Albany City</td>\n",
       "      <td>0.1 MI N JCT RTE 5 &amp; I90</td>\n",
       "      <td>5 X</td>\n",
       "      <td>City</td>\n",
       "      <td>1968</td>\n",
       "      <td>2014-09-04T00:00:00</td>\n",
       "      <td>N</td>\n",
       "      <td>5.211</td>\n",
       "    </tr>\n",
       "    <tr>\n",
       "      <th>1</th>\n",
       "      <td>1</td>\n",
       "      <td>Albany</td>\n",
       "      <td>Albany City</td>\n",
       "      <td>JCT US 9 &amp; PATROON CREEK</td>\n",
       "      <td>9   9 11081025</td>\n",
       "      <td>NYSDOT</td>\n",
       "      <td>1971</td>\n",
       "      <td>2015-10-27T00:00:00</td>\n",
       "      <td>N</td>\n",
       "      <td>4.750</td>\n",
       "    </tr>\n",
       "    <tr>\n",
       "      <th>2</th>\n",
       "      <td>1</td>\n",
       "      <td>Albany</td>\n",
       "      <td>Albany City</td>\n",
       "      <td>JCT RTE 9 &amp; I90</td>\n",
       "      <td>9   9 11081028</td>\n",
       "      <td>NYSDOT</td>\n",
       "      <td>1971</td>\n",
       "      <td>2015-07-08T00:00:00</td>\n",
       "      <td>FO</td>\n",
       "      <td>4.833</td>\n",
       "    </tr>\n",
       "    <tr>\n",
       "      <th>3</th>\n",
       "      <td>1</td>\n",
       "      <td>Albany</td>\n",
       "      <td>Albany City</td>\n",
       "      <td>DOWNTOWN ALBANY</td>\n",
       "      <td>9 X</td>\n",
       "      <td>NYSDOT</td>\n",
       "      <td>1969</td>\n",
       "      <td>2015-10-14T00:00:00</td>\n",
       "      <td>FO</td>\n",
       "      <td>4.403</td>\n",
       "    </tr>\n",
       "    <tr>\n",
       "      <th>4</th>\n",
       "      <td>1</td>\n",
       "      <td>Albany</td>\n",
       "      <td>Albany City</td>\n",
       "      <td>0.1 MI S JCT RT 9W &amp; I787</td>\n",
       "      <td>9W  9W11012007</td>\n",
       "      <td>NYSDOT</td>\n",
       "      <td>1966</td>\n",
       "      <td>2015-05-07T00:00:00</td>\n",
       "      <td>FO</td>\n",
       "      <td>4.328</td>\n",
       "    </tr>\n",
       "  </tbody>\n",
       "</table>\n",
       "</div>"
      ],
      "text/plain": [
       "   Region Code County Name Municipality                   Location  \\\n",
       "0            1      Albany  Albany City   0.1 MI N JCT RTE 5 & I90   \n",
       "1            1      Albany  Albany City   JCT US 9 & PATROON CREEK   \n",
       "2            1      Albany  Albany City            JCT RTE 9 & I90   \n",
       "3            1      Albany  Albany City            DOWNTOWN ALBANY   \n",
       "4            1      Albany  Albany City  0.1 MI S JCT RT 9W & I787   \n",
       "\n",
       "  Route Carried and Reference Marker   Owner  Year Built  Date Last Inspected  \\\n",
       "0                                5 X    City        1968  2014-09-04T00:00:00   \n",
       "1                     9   9 11081025  NYSDOT        1971  2015-10-27T00:00:00   \n",
       "2                     9   9 11081028  NYSDOT        1971  2015-07-08T00:00:00   \n",
       "3                                9 X  NYSDOT        1969  2015-10-14T00:00:00   \n",
       "4                     9W  9W11012007  NYSDOT        1966  2015-05-07T00:00:00   \n",
       "\n",
       "  SD FO Status  Condition Rating  \n",
       "0            N             5.211  \n",
       "1            N             4.750  \n",
       "2           FO             4.833  \n",
       "3           FO             4.403  \n",
       "4           FO             4.328  "
      ]
     },
     "execution_count": 4,
     "metadata": {},
     "output_type": "execute_result"
    }
   ],
   "source": [
    "bridge_data.head()"
   ]
  },
  {
   "cell_type": "code",
   "execution_count": 5,
   "metadata": {},
   "outputs": [
    {
     "data": {
      "text/plain": [
       "(17504, 10)"
      ]
     },
     "execution_count": 5,
     "metadata": {},
     "output_type": "execute_result"
    }
   ],
   "source": [
    "bridge_data.shape"
   ]
  },
  {
   "cell_type": "markdown",
   "metadata": {},
   "source": [
    "За да ми бъде по удобно ще променя името на колоните, т.е. да бъдат без интервали"
   ]
  },
  {
   "cell_type": "code",
   "execution_count": 6,
   "metadata": {},
   "outputs": [
    {
     "data": {
      "text/plain": [
       "Index(['Region Code', 'County Name', 'Municipality', 'Location',\n",
       "       'Route Carried and Reference Marker', 'Owner', 'Year Built',\n",
       "       'Date Last Inspected', 'SD FO Status', 'Condition Rating'],\n",
       "      dtype='object')"
      ]
     },
     "execution_count": 6,
     "metadata": {},
     "output_type": "execute_result"
    }
   ],
   "source": [
    "bridge_data.columns"
   ]
  },
  {
   "cell_type": "code",
   "execution_count": 7,
   "metadata": {},
   "outputs": [],
   "source": [
    "bridge_data.columns = ['region_code', 'county_name', 'municipality', 'location', 'route_carried_reference_marker', 'owner', 'year_built', 'date_last_inspected', 'status', 'condition_rating']"
   ]
  },
  {
   "cell_type": "code",
   "execution_count": 8,
   "metadata": {},
   "outputs": [
    {
     "data": {
      "text/html": [
       "<div>\n",
       "<style scoped>\n",
       "    .dataframe tbody tr th:only-of-type {\n",
       "        vertical-align: middle;\n",
       "    }\n",
       "\n",
       "    .dataframe tbody tr th {\n",
       "        vertical-align: top;\n",
       "    }\n",
       "\n",
       "    .dataframe thead th {\n",
       "        text-align: right;\n",
       "    }\n",
       "</style>\n",
       "<table border=\"1\" class=\"dataframe\">\n",
       "  <thead>\n",
       "    <tr style=\"text-align: right;\">\n",
       "      <th></th>\n",
       "      <th>region_code</th>\n",
       "      <th>county_name</th>\n",
       "      <th>municipality</th>\n",
       "      <th>location</th>\n",
       "      <th>route_carried_reference_marker</th>\n",
       "      <th>owner</th>\n",
       "      <th>year_built</th>\n",
       "      <th>date_last_inspected</th>\n",
       "      <th>status</th>\n",
       "      <th>condition_rating</th>\n",
       "    </tr>\n",
       "  </thead>\n",
       "  <tbody>\n",
       "    <tr>\n",
       "      <th>0</th>\n",
       "      <td>1</td>\n",
       "      <td>Albany</td>\n",
       "      <td>Albany City</td>\n",
       "      <td>0.1 MI N JCT RTE 5 &amp; I90</td>\n",
       "      <td>5 X</td>\n",
       "      <td>City</td>\n",
       "      <td>1968</td>\n",
       "      <td>2014-09-04T00:00:00</td>\n",
       "      <td>N</td>\n",
       "      <td>5.211</td>\n",
       "    </tr>\n",
       "    <tr>\n",
       "      <th>1</th>\n",
       "      <td>1</td>\n",
       "      <td>Albany</td>\n",
       "      <td>Albany City</td>\n",
       "      <td>JCT US 9 &amp; PATROON CREEK</td>\n",
       "      <td>9   9 11081025</td>\n",
       "      <td>NYSDOT</td>\n",
       "      <td>1971</td>\n",
       "      <td>2015-10-27T00:00:00</td>\n",
       "      <td>N</td>\n",
       "      <td>4.750</td>\n",
       "    </tr>\n",
       "    <tr>\n",
       "      <th>2</th>\n",
       "      <td>1</td>\n",
       "      <td>Albany</td>\n",
       "      <td>Albany City</td>\n",
       "      <td>JCT RTE 9 &amp; I90</td>\n",
       "      <td>9   9 11081028</td>\n",
       "      <td>NYSDOT</td>\n",
       "      <td>1971</td>\n",
       "      <td>2015-07-08T00:00:00</td>\n",
       "      <td>FO</td>\n",
       "      <td>4.833</td>\n",
       "    </tr>\n",
       "    <tr>\n",
       "      <th>3</th>\n",
       "      <td>1</td>\n",
       "      <td>Albany</td>\n",
       "      <td>Albany City</td>\n",
       "      <td>DOWNTOWN ALBANY</td>\n",
       "      <td>9 X</td>\n",
       "      <td>NYSDOT</td>\n",
       "      <td>1969</td>\n",
       "      <td>2015-10-14T00:00:00</td>\n",
       "      <td>FO</td>\n",
       "      <td>4.403</td>\n",
       "    </tr>\n",
       "    <tr>\n",
       "      <th>4</th>\n",
       "      <td>1</td>\n",
       "      <td>Albany</td>\n",
       "      <td>Albany City</td>\n",
       "      <td>0.1 MI S JCT RT 9W &amp; I787</td>\n",
       "      <td>9W  9W11012007</td>\n",
       "      <td>NYSDOT</td>\n",
       "      <td>1966</td>\n",
       "      <td>2015-05-07T00:00:00</td>\n",
       "      <td>FO</td>\n",
       "      <td>4.328</td>\n",
       "    </tr>\n",
       "  </tbody>\n",
       "</table>\n",
       "</div>"
      ],
      "text/plain": [
       "   region_code county_name municipality                   location  \\\n",
       "0            1      Albany  Albany City   0.1 MI N JCT RTE 5 & I90   \n",
       "1            1      Albany  Albany City   JCT US 9 & PATROON CREEK   \n",
       "2            1      Albany  Albany City            JCT RTE 9 & I90   \n",
       "3            1      Albany  Albany City            DOWNTOWN ALBANY   \n",
       "4            1      Albany  Albany City  0.1 MI S JCT RT 9W & I787   \n",
       "\n",
       "  route_carried_reference_marker   owner  year_built  date_last_inspected  \\\n",
       "0                            5 X    City        1968  2014-09-04T00:00:00   \n",
       "1                 9   9 11081025  NYSDOT        1971  2015-10-27T00:00:00   \n",
       "2                 9   9 11081028  NYSDOT        1971  2015-07-08T00:00:00   \n",
       "3                            9 X  NYSDOT        1969  2015-10-14T00:00:00   \n",
       "4                 9W  9W11012007  NYSDOT        1966  2015-05-07T00:00:00   \n",
       "\n",
       "  status  condition_rating  \n",
       "0      N             5.211  \n",
       "1      N             4.750  \n",
       "2     FO             4.833  \n",
       "3     FO             4.403  \n",
       "4     FO             4.328  "
      ]
     },
     "execution_count": 8,
     "metadata": {},
     "output_type": "execute_result"
    }
   ],
   "source": [
    "bridge_data.head()"
   ]
  },
  {
   "cell_type": "code",
   "execution_count": 9,
   "metadata": {},
   "outputs": [
    {
     "data": {
      "text/plain": [
       "11"
      ]
     },
     "execution_count": 9,
     "metadata": {},
     "output_type": "execute_result"
    }
   ],
   "source": [
    "len(bridge_data.region_code.unique())"
   ]
  },
  {
   "cell_type": "code",
   "execution_count": 10,
   "metadata": {},
   "outputs": [
    {
     "data": {
      "text/plain": [
       "62"
      ]
     },
     "execution_count": 10,
     "metadata": {},
     "output_type": "execute_result"
    }
   ],
   "source": [
    "len(bridge_data.county_name.unique())"
   ]
  },
  {
   "cell_type": "code",
   "execution_count": 11,
   "metadata": {},
   "outputs": [
    {
     "data": {
      "text/plain": [
       "1370"
      ]
     },
     "execution_count": 11,
     "metadata": {},
     "output_type": "execute_result"
    }
   ],
   "source": [
    "len(bridge_data.municipality.unique())"
   ]
  },
  {
   "cell_type": "code",
   "execution_count": 12,
   "metadata": {},
   "outputs": [
    {
     "data": {
      "text/plain": [
       "15422"
      ]
     },
     "execution_count": 12,
     "metadata": {},
     "output_type": "execute_result"
    }
   ],
   "source": [
    "len(bridge_data.location.unique())"
   ]
  },
  {
   "cell_type": "code",
   "execution_count": 13,
   "metadata": {},
   "outputs": [
    {
     "data": {
      "text/plain": [
       "12767"
      ]
     },
     "execution_count": 13,
     "metadata": {},
     "output_type": "execute_result"
    }
   ],
   "source": [
    "len(bridge_data.route_carried_reference_marker.unique())"
   ]
  },
  {
   "cell_type": "markdown",
   "metadata": {},
   "source": [
    "Първите 5 променливи най общо казано са свързани с местоположението на мостовете. За по лесно и бързо обучение ще премахна колоните (\"municipality\", \"location\", \"route_carried_reference_marker\", \"date_last_inspected\")"
   ]
  },
  {
   "cell_type": "code",
   "execution_count": 14,
   "metadata": {},
   "outputs": [],
   "source": [
    "bridge_data_ready = bridge_data.drop([\"municipality\", \"location\", \"route_carried_reference_marker\", \"date_last_inspected\"], axis = 1)"
   ]
  },
  {
   "cell_type": "code",
   "execution_count": 15,
   "metadata": {},
   "outputs": [
    {
     "data": {
      "text/html": [
       "<div>\n",
       "<style scoped>\n",
       "    .dataframe tbody tr th:only-of-type {\n",
       "        vertical-align: middle;\n",
       "    }\n",
       "\n",
       "    .dataframe tbody tr th {\n",
       "        vertical-align: top;\n",
       "    }\n",
       "\n",
       "    .dataframe thead th {\n",
       "        text-align: right;\n",
       "    }\n",
       "</style>\n",
       "<table border=\"1\" class=\"dataframe\">\n",
       "  <thead>\n",
       "    <tr style=\"text-align: right;\">\n",
       "      <th></th>\n",
       "      <th>region_code</th>\n",
       "      <th>county_name</th>\n",
       "      <th>owner</th>\n",
       "      <th>year_built</th>\n",
       "      <th>status</th>\n",
       "      <th>condition_rating</th>\n",
       "    </tr>\n",
       "  </thead>\n",
       "  <tbody>\n",
       "    <tr>\n",
       "      <th>0</th>\n",
       "      <td>1</td>\n",
       "      <td>Albany</td>\n",
       "      <td>City</td>\n",
       "      <td>1968</td>\n",
       "      <td>N</td>\n",
       "      <td>5.211</td>\n",
       "    </tr>\n",
       "    <tr>\n",
       "      <th>1</th>\n",
       "      <td>1</td>\n",
       "      <td>Albany</td>\n",
       "      <td>NYSDOT</td>\n",
       "      <td>1971</td>\n",
       "      <td>N</td>\n",
       "      <td>4.750</td>\n",
       "    </tr>\n",
       "    <tr>\n",
       "      <th>2</th>\n",
       "      <td>1</td>\n",
       "      <td>Albany</td>\n",
       "      <td>NYSDOT</td>\n",
       "      <td>1971</td>\n",
       "      <td>FO</td>\n",
       "      <td>4.833</td>\n",
       "    </tr>\n",
       "    <tr>\n",
       "      <th>3</th>\n",
       "      <td>1</td>\n",
       "      <td>Albany</td>\n",
       "      <td>NYSDOT</td>\n",
       "      <td>1969</td>\n",
       "      <td>FO</td>\n",
       "      <td>4.403</td>\n",
       "    </tr>\n",
       "    <tr>\n",
       "      <th>4</th>\n",
       "      <td>1</td>\n",
       "      <td>Albany</td>\n",
       "      <td>NYSDOT</td>\n",
       "      <td>1966</td>\n",
       "      <td>FO</td>\n",
       "      <td>4.328</td>\n",
       "    </tr>\n",
       "  </tbody>\n",
       "</table>\n",
       "</div>"
      ],
      "text/plain": [
       "   region_code county_name   owner  year_built status  condition_rating\n",
       "0            1      Albany    City        1968      N             5.211\n",
       "1            1      Albany  NYSDOT        1971      N             4.750\n",
       "2            1      Albany  NYSDOT        1971     FO             4.833\n",
       "3            1      Albany  NYSDOT        1969     FO             4.403\n",
       "4            1      Albany  NYSDOT        1966     FO             4.328"
      ]
     },
     "execution_count": 15,
     "metadata": {},
     "output_type": "execute_result"
    }
   ],
   "source": [
    "bridge_data_ready.head()"
   ]
  },
  {
   "cell_type": "markdown",
   "metadata": {},
   "source": [
    "Сега ще проверя информацията за готовата таблица."
   ]
  },
  {
   "cell_type": "code",
   "execution_count": 16,
   "metadata": {},
   "outputs": [
    {
     "name": "stdout",
     "output_type": "stream",
     "text": [
      "<class 'pandas.core.frame.DataFrame'>\n",
      "RangeIndex: 17504 entries, 0 to 17503\n",
      "Data columns (total 6 columns):\n",
      "region_code         17504 non-null int64\n",
      "county_name         17504 non-null object\n",
      "owner               17504 non-null object\n",
      "year_built          17504 non-null int64\n",
      "status              17504 non-null object\n",
      "condition_rating    17471 non-null float64\n",
      "dtypes: float64(1), int64(2), object(3)\n",
      "memory usage: 820.6+ KB\n"
     ]
    }
   ],
   "source": [
    "bridge_data_ready.info()"
   ]
  },
  {
   "cell_type": "markdown",
   "metadata": {},
   "source": [
    "В последната колона - Рейтинг на състоянието(condition_rating) липсват 33 записа. Най-лесния, а даже бих казал и единствения възможен метод е да премахна всички записи, където липсват тези стойности, защото точно рейтинга ще предсказваме."
   ]
  },
  {
   "cell_type": "code",
   "execution_count": 17,
   "metadata": {},
   "outputs": [],
   "source": [
    "bridge_data_ready = bridge_data_ready.dropna()"
   ]
  },
  {
   "cell_type": "code",
   "execution_count": 18,
   "metadata": {},
   "outputs": [
    {
     "data": {
      "text/plain": [
       "(17471, 6)"
      ]
     },
     "execution_count": 18,
     "metadata": {},
     "output_type": "execute_result"
    }
   ],
   "source": [
    "bridge_data_ready.shape"
   ]
  },
  {
   "cell_type": "markdown",
   "metadata": {},
   "source": [
    "### Подготовка на данни\n",
    "#### 1. Отделяме данните"
   ]
  },
  {
   "cell_type": "code",
   "execution_count": 19,
   "metadata": {},
   "outputs": [],
   "source": [
    "bridge_features = bridge_data_ready.drop([\"condition_rating\"], axis = 1)\n",
    "bridge_labels = bridge_data_ready.condition_rating"
   ]
  },
  {
   "cell_type": "code",
   "execution_count": 20,
   "metadata": {},
   "outputs": [
    {
     "data": {
      "text/plain": [
       "(17471, 5)"
      ]
     },
     "execution_count": 20,
     "metadata": {},
     "output_type": "execute_result"
    }
   ],
   "source": [
    "bridge_features.shape"
   ]
  },
  {
   "cell_type": "code",
   "execution_count": 21,
   "metadata": {},
   "outputs": [
    {
     "data": {
      "text/plain": [
       "(17471,)"
      ]
     },
     "execution_count": 21,
     "metadata": {},
     "output_type": "execute_result"
    }
   ],
   "source": [
    "bridge_labels.shape"
   ]
  },
  {
   "cell_type": "markdown",
   "metadata": {},
   "source": [
    "Данните които ще предсказваме (bridge_labels) ще ги класифицираме на 2 класа. Тези които са по-големи от 5 - клас \"1\" (мостове, които са в добро състояние) и по-малко от 5 - клас \"0\" (мостове, които не са в добро състояние)"
   ]
  },
  {
   "cell_type": "code",
   "execution_count": 22,
   "metadata": {},
   "outputs": [],
   "source": [
    "bridge_labels = bridge_labels.replace(np.array(bridge_labels[(bridge_labels) <= 5]), 0)\n",
    "bridge_labels = bridge_labels.replace(np.array(bridge_labels[(bridge_labels) > 5]), 1)"
   ]
  },
  {
   "cell_type": "markdown",
   "metadata": {},
   "source": [
    "#### 2. Преобразувам категоричните променливи в индикаторни променливи.\n",
    "#### 3. Разделям данните на трениращи и тестващи.\n",
    "\n",
    "След като съм разделил данните показвам съотношението на двата класа в данните"
   ]
  },
  {
   "cell_type": "code",
   "execution_count": 23,
   "metadata": {},
   "outputs": [],
   "source": [
    "bridge_features = pd.get_dummies(bridge_features)"
   ]
  },
  {
   "cell_type": "code",
   "execution_count": 24,
   "metadata": {},
   "outputs": [
    {
     "data": {
      "text/plain": [
       "(17471, 101)"
      ]
     },
     "execution_count": 24,
     "metadata": {},
     "output_type": "execute_result"
    }
   ],
   "source": [
    "bridge_features.shape"
   ]
  },
  {
   "cell_type": "code",
   "execution_count": 25,
   "metadata": {},
   "outputs": [],
   "source": [
    "bridge_features_train, bridge_features_test, bridge_labels_train, bridge_labels_test = train_test_split(bridge_features, bridge_labels, train_size = 0.7, test_size = 0.3, random_state = 42, stratify = bridge_labels)"
   ]
  },
  {
   "cell_type": "code",
   "execution_count": 26,
   "metadata": {},
   "outputs": [],
   "source": [
    "def ploting_class(data):\n",
    "    plt.bar([0, 1], [len(data[data == 0]), len(data[data == 1])])\n",
    "    plt.xticks([0, 1])\n",
    "    plt.xlabel(\"Class\")\n",
    "    plt.ylabel(\"Count\")\n",
    "    plt.show()\n",
    "    print(\"Positive cases: {:.3f}% of all\".format(data.sum() / len(data) * 100))"
   ]
  },
  {
   "cell_type": "code",
   "execution_count": 27,
   "metadata": {},
   "outputs": [
    {
     "data": {
      "image/png": "[encoded data removed]",
      "text/plain": [
       "<matplotlib.figure.Figure at 0x118c3651fd0>"
      ]
     },
     "metadata": {},
     "output_type": "display_data"
    },
    {
     "name": "stdout",
     "output_type": "stream",
     "text": [
      "Positive cases: 62.355% of all\n"
     ]
    }
   ],
   "source": [
    "ploting_class(bridge_labels)"
   ]
  },
  {
   "cell_type": "code",
   "execution_count": 28,
   "metadata": {},
   "outputs": [
    {
     "data": {
      "image/png": "[encoded data removed]",
      "text/plain": [
       "<matplotlib.figure.Figure at 0x118c37a4390>"
      ]
     },
     "metadata": {},
     "output_type": "display_data"
    },
    {
     "name": "stdout",
     "output_type": "stream",
     "text": [
      "Positive cases: 62.352% of all\n"
     ]
    }
   ],
   "source": [
    "ploting_class(bridge_labels_train)"
   ]
  },
  {
   "cell_type": "code",
   "execution_count": 29,
   "metadata": {},
   "outputs": [
    {
     "data": {
      "image/png": "[encoded data removed]",
      "text/plain": [
       "<matplotlib.figure.Figure at 0x118c3728518>"
      ]
     },
     "metadata": {},
     "output_type": "display_data"
    },
    {
     "name": "stdout",
     "output_type": "stream",
     "text": [
      "Positive cases: 62.362% of all\n"
     ]
    }
   ],
   "source": [
    "ploting_class(bridge_labels_test)"
   ]
  },
  {
   "cell_type": "markdown",
   "metadata": {},
   "source": [
    "### Машинно обучение\n",
    "#### 1. LogisticRegression\n",
    "Оптимизирам хиперпараметрите (\"C\", \"max_iter\"), като изплзвам мрежата за търсене GridSearchCV в диапазона:\n",
    "* `C`: 0.05, 0.1, 0.3, 0.5, 1, 10\n",
    "* `max_iter`: 20, 30, 40, 50, 60, 70"
   ]
  },
  {
   "cell_type": "code",
   "execution_count": 30,
   "metadata": {},
   "outputs": [],
   "source": [
    "tuned_params = [{\"C\": [0.05, 0.1, 0.3, 0.5, 1, 10], \"max_iter\": [20, 30, 40, 50, 60, 70]}]"
   ]
  },
  {
   "cell_type": "code",
   "execution_count": 31,
   "metadata": {},
   "outputs": [],
   "source": [
    "grid_search = GridSearchCV(LogisticRegression(fit_intercept = False), tuned_params)"
   ]
  },
  {
   "cell_type": "code",
   "execution_count": 32,
   "metadata": {},
   "outputs": [],
   "source": [
    "model_logistic_regression = grid_search.fit(bridge_features_train, bridge_labels_train)"
   ]
  },
  {
   "cell_type": "code",
   "execution_count": 33,
   "metadata": {},
   "outputs": [
    {
     "data": {
      "text/plain": [
       "LogisticRegression(C=0.3, class_weight=None, dual=False, fit_intercept=False,\n",
       "          intercept_scaling=1, max_iter=30, multi_class='ovr', n_jobs=1,\n",
       "          penalty='l2', random_state=None, solver='liblinear', tol=0.0001,\n",
       "          verbose=0, warm_start=False)"
      ]
     },
     "execution_count": 33,
     "metadata": {},
     "output_type": "execute_result"
    }
   ],
   "source": [
    "model_logistic_regression.best_estimator_"
   ]
  },
  {
   "cell_type": "markdown",
   "metadata": {},
   "source": [
    "#### 2. GaussianSVC\n",
    "Оптимизирам хиперпараметрите (\"C\", \"gama\"), като изплзвам мрежата за търсене GridSearchCV в диапазона:\n",
    "* `C`: 40, 50, 60, 80, 100\n",
    "* `gamma`: 0.0001, 0.0005, 0.001, 0.005"
   ]
  },
  {
   "cell_type": "code",
   "execution_count": 34,
   "metadata": {},
   "outputs": [],
   "source": [
    "tuned_params = [{\"C\": [40, 50, 60, 80, 100], \"gamma\": [0.0001, 0.0005, 0.001, 0.005]}]"
   ]
  },
  {
   "cell_type": "code",
   "execution_count": 35,
   "metadata": {},
   "outputs": [],
   "source": [
    "grid_search = GridSearchCV(SVC(kernel = 'rbf'), tuned_params)"
   ]
  },
  {
   "cell_type": "code",
   "execution_count": 36,
   "metadata": {},
   "outputs": [],
   "source": [
    "model_gaussian_svm = grid_search.fit(bridge_features_train, bridge_labels_train)"
   ]
  },
  {
   "cell_type": "code",
   "execution_count": 37,
   "metadata": {},
   "outputs": [
    {
     "data": {
      "text/plain": [
       "SVC(C=50, cache_size=200, class_weight=None, coef0=0.0,\n",
       "  decision_function_shape='ovr', degree=3, gamma=0.001, kernel='rbf',\n",
       "  max_iter=-1, probability=False, random_state=None, shrinking=True,\n",
       "  tol=0.001, verbose=False)"
      ]
     },
     "execution_count": 37,
     "metadata": {},
     "output_type": "execute_result"
    }
   ],
   "source": [
    "model_gaussian_svm.best_estimator_"
   ]
  },
  {
   "cell_type": "markdown",
   "metadata": {},
   "source": [
    "#### 3. Decision Tree\n",
    "Оптимизирам хиперпараметрите (\"max_depth\", \"min_samples_leaf\", \"max_leaf_nodes\"), като изплзвам мрежата за търсене GridSearchCV в диапазона:\n",
    "* `max_depth`: 1, 5, 7, 15, 20\n",
    "* `min_samples_leaf`: 2, 5, 10, 12\n",
    "* `max_leaf_nodes`: 5, 10, 20"
   ]
  },
  {
   "cell_type": "code",
   "execution_count": 38,
   "metadata": {},
   "outputs": [],
   "source": [
    "tuned_params = [{\"max_depth\": [1, 5, 7, 15, 20], \"min_samples_leaf\": [2, 5, 10, 12], \"max_leaf_nodes\": [5, 10, 20]}]"
   ]
  },
  {
   "cell_type": "code",
   "execution_count": 39,
   "metadata": {},
   "outputs": [],
   "source": [
    "grid_search = GridSearchCV(DecisionTreeClassifier(), tuned_params)"
   ]
  },
  {
   "cell_type": "code",
   "execution_count": 40,
   "metadata": {},
   "outputs": [],
   "source": [
    "model_decision_tree = grid_search.fit(bridge_features_train, bridge_labels_train)"
   ]
  },
  {
   "cell_type": "code",
   "execution_count": 41,
   "metadata": {},
   "outputs": [
    {
     "data": {
      "text/plain": [
       "DecisionTreeClassifier(class_weight=None, criterion='gini', max_depth=7,\n",
       "            max_features=None, max_leaf_nodes=20,\n",
       "            min_impurity_decrease=0.0, min_impurity_split=None,\n",
       "            min_samples_leaf=2, min_samples_split=2,\n",
       "            min_weight_fraction_leaf=0.0, presort=False, random_state=None,\n",
       "            splitter='best')"
      ]
     },
     "execution_count": 41,
     "metadata": {},
     "output_type": "execute_result"
    }
   ],
   "source": [
    "model_decision_tree.best_estimator_"
   ]
  },
  {
   "cell_type": "markdown",
   "metadata": {},
   "source": [
    "Хиперпараметрите \"min_samples_leaf\" и \"max_leaf_nodes\" ще ги оптимизирам отново в нов диапазон:\n",
    "* `min_samples_leaf`: 0.5, 1, 2, 3\n",
    "* `max_leaf_nodes`: 20, 25, 30, 40"
   ]
  },
  {
   "cell_type": "code",
   "execution_count": 42,
   "metadata": {},
   "outputs": [],
   "source": [
    "tuned_params = [{\"min_samples_leaf\": [0.5, 1, 2, 3], \"max_leaf_nodes\": [20, 25, 30, 40]}]"
   ]
  },
  {
   "cell_type": "code",
   "execution_count": 43,
   "metadata": {},
   "outputs": [],
   "source": [
    "grid_search = GridSearchCV(DecisionTreeClassifier(max_depth = 7), tuned_params)"
   ]
  },
  {
   "cell_type": "code",
   "execution_count": 44,
   "metadata": {},
   "outputs": [],
   "source": [
    "model_decision_tree = grid_search.fit(bridge_features_train, bridge_labels_train)"
   ]
  },
  {
   "cell_type": "code",
   "execution_count": 45,
   "metadata": {},
   "outputs": [
    {
     "data": {
      "text/plain": [
       "DecisionTreeClassifier(class_weight=None, criterion='gini', max_depth=7,\n",
       "            max_features=None, max_leaf_nodes=20,\n",
       "            min_impurity_decrease=0.0, min_impurity_split=None,\n",
       "            min_samples_leaf=1, min_samples_split=2,\n",
       "            min_weight_fraction_leaf=0.0, presort=False, random_state=None,\n",
       "            splitter='best')"
      ]
     },
     "execution_count": 45,
     "metadata": {},
     "output_type": "execute_result"
    }
   ],
   "source": [
    "model_decision_tree.best_estimator_"
   ]
  },
  {
   "cell_type": "markdown",
   "metadata": {},
   "source": [
    "#### 4. Random Forest\n",
    "Оптимизирам хиперпараметрите (\"n_estimators\", \"max_depth\"), като изплзвам мрежата за търсене GridSearchCV в диапазона:\n",
    "* `n_estimators`: 100, 200, 300 \n",
    "* `max_depth`: 20, 50, 100"
   ]
  },
  {
   "cell_type": "code",
   "execution_count": 46,
   "metadata": {},
   "outputs": [],
   "source": [
    "tuned_params = [{\"n_estimators\": [100, 200, 300], \"max_depth\": [20, 50, 100]}]"
   ]
  },
  {
   "cell_type": "code",
   "execution_count": 47,
   "metadata": {},
   "outputs": [],
   "source": [
    "grid_search = GridSearchCV(RandomForestClassifier(), tuned_params)"
   ]
  },
  {
   "cell_type": "code",
   "execution_count": 48,
   "metadata": {},
   "outputs": [],
   "source": [
    "model_random_forest = grid_search.fit(bridge_features_train, bridge_labels_train)"
   ]
  },
  {
   "cell_type": "code",
   "execution_count": 49,
   "metadata": {},
   "outputs": [
    {
     "data": {
      "text/plain": [
       "RandomForestClassifier(bootstrap=True, class_weight=None, criterion='gini',\n",
       "            max_depth=20, max_features='auto', max_leaf_nodes=None,\n",
       "            min_impurity_decrease=0.0, min_impurity_split=None,\n",
       "            min_samples_leaf=1, min_samples_split=2,\n",
       "            min_weight_fraction_leaf=0.0, n_estimators=300, n_jobs=1,\n",
       "            oob_score=False, random_state=None, verbose=0,\n",
       "            warm_start=False)"
      ]
     },
     "execution_count": 49,
     "metadata": {},
     "output_type": "execute_result"
    }
   ],
   "source": [
    "model_random_forest.best_estimator_"
   ]
  },
  {
   "cell_type": "markdown",
   "metadata": {},
   "source": [
    "Хиперпараметрите (\"n_estimators\", \"max_depth\") ще ги оптимизирам в нов диапазон:\n",
    "* `n_estimators`: 300, 500, 1000 \n",
    "* `max_depth`: 10, 20, 30"
   ]
  },
  {
   "cell_type": "code",
   "execution_count": 55,
   "metadata": {},
   "outputs": [],
   "source": [
    "tuned_params = [{\"n_estimators\": [300, 500, 1000], \"max_depth\": [10, 20, 30]}]"
   ]
  },
  {
   "cell_type": "code",
   "execution_count": 56,
   "metadata": {},
   "outputs": [],
   "source": [
    "grid_search = GridSearchCV(RandomForestClassifier(), tuned_params)"
   ]
  },
  {
   "cell_type": "code",
   "execution_count": 57,
   "metadata": {},
   "outputs": [],
   "source": [
    "model_random_forest = grid_search.fit(bridge_features_train, bridge_labels_train)"
   ]
  },
  {
   "cell_type": "code",
   "execution_count": 58,
   "metadata": {},
   "outputs": [
    {
     "data": {
      "text/plain": [
       "RandomForestClassifier(bootstrap=True, class_weight=None, criterion='gini',\n",
       "            max_depth=20, max_features='auto', max_leaf_nodes=None,\n",
       "            min_impurity_decrease=0.0, min_impurity_split=None,\n",
       "            min_samples_leaf=1, min_samples_split=2,\n",
       "            min_weight_fraction_leaf=0.0, n_estimators=1000, n_jobs=1,\n",
       "            oob_score=False, random_state=None, verbose=0,\n",
       "            warm_start=False)"
      ]
     },
     "execution_count": 58,
     "metadata": {},
     "output_type": "execute_result"
    }
   ],
   "source": [
    "model_random_forest.best_estimator_"
   ]
  },
  {
   "cell_type": "markdown",
   "metadata": {},
   "source": [
    "### Оценяване на алгоритмите\n",
    "#### 1. Accuracy - Точност (брой правилно класифицирани проби):"
   ]
  },
  {
   "cell_type": "code",
   "execution_count": 59,
   "metadata": {},
   "outputs": [],
   "source": [
    "def accuracy(data_labels_test, data_features_test, model):\n",
    "    return accuracy_score(data_labels_test, model.predict(data_features_test))"
   ]
  },
  {
   "cell_type": "code",
   "execution_count": 60,
   "metadata": {},
   "outputs": [
    {
     "name": "stdout",
     "output_type": "stream",
     "text": [
      "Testing scores:\n",
      "Logistic Regression: 0.7104158718046547\n",
      "Gaussian SVM: 0.7375047691720718\n",
      "Decision tree: 0.7390309042350248\n",
      "Random forest: 0.7516215185043876\n"
     ]
    }
   ],
   "source": [
    "logistic_regression_classifier_score, gaussian_svm_classifier_score, tree_classifier_score, forest_classifier_score = accuracy(bridge_labels_test, bridge_features_test, model_logistic_regression), accuracy(bridge_labels_test, bridge_features_test, model_gaussian_svm), accuracy(bridge_labels_test, bridge_features_test, model_decision_tree), accuracy(bridge_labels_test, bridge_features_test, model_random_forest)\n",
    "\n",
    "\n",
    "print(\"Testing scores:\")\n",
    "print(\"Logistic Regression:\", logistic_regression_classifier_score)\n",
    "print(\"Gaussian SVM:\", gaussian_svm_classifier_score)\n",
    "print(\"Decision tree:\", tree_classifier_score)\n",
    "print(\"Random forest:\", forest_classifier_score)\n"
   ]
  },
  {
   "cell_type": "markdown",
   "metadata": {},
   "source": [
    "#### 2. F1-score"
   ]
  },
  {
   "cell_type": "code",
   "execution_count": 62,
   "metadata": {},
   "outputs": [],
   "source": [
    "def f1(data_labels_test, data_features_test, model):\n",
    "    return f1_score(data_labels_test, model.predict(data_features_test))"
   ]
  },
  {
   "cell_type": "code",
   "execution_count": 63,
   "metadata": {},
   "outputs": [
    {
     "name": "stdout",
     "output_type": "stream",
     "text": [
      "Testing scores:\n",
      "Logistic Regression: 0.7936939385702637\n",
      "Gaussian SVM: 0.7956637956637956\n",
      "Decision tree: 0.7967914438502673\n",
      "Random forest: 0.8085294117647058\n"
     ]
    }
   ],
   "source": [
    "logistic_regression_classifier_score, gaussian_svm_classifier_score, tree_classifier_score, forest_classifier_score = f1(bridge_labels_test, bridge_features_test, model_logistic_regression), f1(bridge_labels_test, bridge_features_test, model_gaussian_svm), f1(bridge_labels_test, bridge_features_test, model_decision_tree), f1(bridge_labels_test, bridge_features_test, model_random_forest)\n",
    "\n",
    "\n",
    "print(\"Testing scores:\")\n",
    "print(\"Logistic Regression:\", logistic_regression_classifier_score)\n",
    "print(\"Gaussian SVM:\", gaussian_svm_classifier_score)\n",
    "print(\"Decision tree:\", tree_classifier_score)\n",
    "print(\"Random forest:\", forest_classifier_score)"
   ]
  },
  {
   "cell_type": "markdown",
   "metadata": {},
   "source": [
    "За момента мога да заключа, че алгоритмите не се справят много зле. Най-добре обученият е Random forest. Все пак да не забравяме, че в началото изключих няколко категорийни променливи с цел по лесно и бързо обучение. Въпросът който си задавам сега е: Как да компенсирам тези категорийни променливи, така че новата променлива да е свързана с местоположението на моста и съответно да влияе на неговото състояние?\n",
    "\n",
    "Отговорът на въпроса ми мисля, че се намира в следващата таблица - Средният дневен трафик NYS (AADT), а именно трафика на автомобили който преминава през даденото съоръжение.\n",
    "\n",
    "Таблицата се състои от 15 променливи и 234 664 записа.\n",
    "\n",
    "### Първи вариант - ще използвам променливите:\n",
    "* `Region`\n",
    "* `\tAADT` - Средна годишна стойност на дневния трафик\n",
    "    \n",
    "Взимам за всеки регион средната стойност за AADT за всички години. Тук трафика нямада бъде толкова точен за съответното съоръжение, но в този случай не губя записи"
   ]
  },
  {
   "cell_type": "code",
   "execution_count": 64,
   "metadata": {},
   "outputs": [],
   "source": [
    "traffic_data = pd.read_csv(\"Data/traffic.csv\")"
   ]
  },
  {
   "cell_type": "code",
   "execution_count": 65,
   "metadata": {},
   "outputs": [
    {
     "data": {
      "text/html": [
       "<div>\n",
       "<style scoped>\n",
       "    .dataframe tbody tr th:only-of-type {\n",
       "        vertical-align: middle;\n",
       "    }\n",
       "\n",
       "    .dataframe tbody tr th {\n",
       "        vertical-align: top;\n",
       "    }\n",
       "\n",
       "    .dataframe thead th {\n",
       "        text-align: right;\n",
       "    }\n",
       "</style>\n",
       "<table border=\"1\" class=\"dataframe\">\n",
       "  <thead>\n",
       "    <tr style=\"text-align: right;\">\n",
       "      <th></th>\n",
       "      <th>Region</th>\n",
       "      <th>RC_ID</th>\n",
       "      <th>GIS Code</th>\n",
       "      <th>Ramp</th>\n",
       "      <th>Begin Milepoint</th>\n",
       "      <th>End Milepoint</th>\n",
       "      <th>Roadway Begin Description</th>\n",
       "      <th>Roadway End Description</th>\n",
       "      <th>Municipality</th>\n",
       "      <th>Signing</th>\n",
       "      <th>Route Number</th>\n",
       "      <th>Road Name</th>\n",
       "      <th>Year</th>\n",
       "      <th>AADT</th>\n",
       "      <th>Count Type</th>\n",
       "    </tr>\n",
       "  </thead>\n",
       "  <tbody>\n",
       "    <tr>\n",
       "      <th>0</th>\n",
       "      <td>1</td>\n",
       "      <td>14_0102</td>\n",
       "      <td>10036601.0</td>\n",
       "      <td>N</td>\n",
       "      <td>0.0</td>\n",
       "      <td>1.5</td>\n",
       "      <td>RTS 9 20</td>\n",
       "      <td>RT 151 JCT</td>\n",
       "      <td>EAST GREENBUSH</td>\n",
       "      <td>US</td>\n",
       "      <td>4</td>\n",
       "      <td>NaN</td>\n",
       "      <td>2014</td>\n",
       "      <td>15308</td>\n",
       "      <td>FORECAST</td>\n",
       "    </tr>\n",
       "    <tr>\n",
       "      <th>1</th>\n",
       "      <td>1</td>\n",
       "      <td>14_0102</td>\n",
       "      <td>10036601.0</td>\n",
       "      <td>N</td>\n",
       "      <td>0.0</td>\n",
       "      <td>1.5</td>\n",
       "      <td>RTS 9 20</td>\n",
       "      <td>RT 151 JCT</td>\n",
       "      <td>EAST GREENBUSH</td>\n",
       "      <td>US</td>\n",
       "      <td>4</td>\n",
       "      <td>NaN</td>\n",
       "      <td>2013</td>\n",
       "      <td>15394</td>\n",
       "      <td>ACTUAL</td>\n",
       "    </tr>\n",
       "    <tr>\n",
       "      <th>2</th>\n",
       "      <td>1</td>\n",
       "      <td>14_0102</td>\n",
       "      <td>10036601.0</td>\n",
       "      <td>N</td>\n",
       "      <td>0.0</td>\n",
       "      <td>1.5</td>\n",
       "      <td>RTS 9 20</td>\n",
       "      <td>RT 151 JCT</td>\n",
       "      <td>EAST GREENBUSH</td>\n",
       "      <td>US</td>\n",
       "      <td>4</td>\n",
       "      <td>NaN</td>\n",
       "      <td>2010</td>\n",
       "      <td>14163</td>\n",
       "      <td>ACTUAL</td>\n",
       "    </tr>\n",
       "    <tr>\n",
       "      <th>3</th>\n",
       "      <td>1</td>\n",
       "      <td>14_0102</td>\n",
       "      <td>10036601.0</td>\n",
       "      <td>N</td>\n",
       "      <td>0.0</td>\n",
       "      <td>1.5</td>\n",
       "      <td>RTS 9 20</td>\n",
       "      <td>RT 151 JCT</td>\n",
       "      <td>EAST GREENBUSH</td>\n",
       "      <td>US</td>\n",
       "      <td>4</td>\n",
       "      <td>NaN</td>\n",
       "      <td>2006</td>\n",
       "      <td>17070</td>\n",
       "      <td>ACTUAL</td>\n",
       "    </tr>\n",
       "    <tr>\n",
       "      <th>4</th>\n",
       "      <td>1</td>\n",
       "      <td>14_0102</td>\n",
       "      <td>10036601.0</td>\n",
       "      <td>N</td>\n",
       "      <td>0.0</td>\n",
       "      <td>1.5</td>\n",
       "      <td>RTS 9 20</td>\n",
       "      <td>RT 151 JCT</td>\n",
       "      <td>EAST GREENBUSH</td>\n",
       "      <td>US</td>\n",
       "      <td>4</td>\n",
       "      <td>NaN</td>\n",
       "      <td>2004</td>\n",
       "      <td>15910</td>\n",
       "      <td>ACTUAL</td>\n",
       "    </tr>\n",
       "  </tbody>\n",
       "</table>\n",
       "</div>"
      ],
      "text/plain": [
       "   Region    RC_ID    GIS Code Ramp  Begin Milepoint  End Milepoint  \\\n",
       "0       1  14_0102  10036601.0    N              0.0            1.5   \n",
       "1       1  14_0102  10036601.0    N              0.0            1.5   \n",
       "2       1  14_0102  10036601.0    N              0.0            1.5   \n",
       "3       1  14_0102  10036601.0    N              0.0            1.5   \n",
       "4       1  14_0102  10036601.0    N              0.0            1.5   \n",
       "\n",
       "  Roadway Begin Description Roadway End Description    Municipality Signing  \\\n",
       "0                  RTS 9 20              RT 151 JCT  EAST GREENBUSH      US   \n",
       "1                  RTS 9 20              RT 151 JCT  EAST GREENBUSH      US   \n",
       "2                  RTS 9 20              RT 151 JCT  EAST GREENBUSH      US   \n",
       "3                  RTS 9 20              RT 151 JCT  EAST GREENBUSH      US   \n",
       "4                  RTS 9 20              RT 151 JCT  EAST GREENBUSH      US   \n",
       "\n",
       "  Route Number Road Name  Year   AADT Count Type  \n",
       "0            4       NaN  2014  15308   FORECAST  \n",
       "1            4       NaN  2013  15394     ACTUAL  \n",
       "2            4       NaN  2010  14163     ACTUAL  \n",
       "3            4       NaN  2006  17070     ACTUAL  \n",
       "4            4       NaN  2004  15910     ACTUAL  "
      ]
     },
     "execution_count": 65,
     "metadata": {},
     "output_type": "execute_result"
    }
   ],
   "source": [
    "traffic_data.head()"
   ]
  },
  {
   "cell_type": "code",
   "execution_count": 66,
   "metadata": {},
   "outputs": [
    {
     "data": {
      "text/plain": [
       "(234664, 15)"
      ]
     },
     "execution_count": 66,
     "metadata": {},
     "output_type": "execute_result"
    }
   ],
   "source": [
    "traffic_data.shape"
   ]
  },
  {
   "cell_type": "code",
   "execution_count": 67,
   "metadata": {},
   "outputs": [
    {
     "data": {
      "text/plain": [
       "array([ 1,  2,  3,  4,  5,  6,  7,  8,  9, 10, 11], dtype=int64)"
      ]
     },
     "execution_count": 67,
     "metadata": {},
     "output_type": "execute_result"
    }
   ],
   "source": [
    "traffic_data.Region.unique()"
   ]
  },
  {
   "cell_type": "markdown",
   "metadata": {},
   "source": [
    "### Подготовка на данни"
   ]
  },
  {
   "cell_type": "code",
   "execution_count": 68,
   "metadata": {},
   "outputs": [],
   "source": [
    "traffic_region_mean = traffic_data.groupby([\"Region\"])[\"AADT\"].mean()"
   ]
  },
  {
   "cell_type": "code",
   "execution_count": 69,
   "metadata": {},
   "outputs": [
    {
     "data": {
      "text/plain": [
       "Region\n",
       "1      7785.890191\n",
       "2      4894.039254\n",
       "3      6960.430528\n",
       "4      8107.792407\n",
       "5      8128.185847\n",
       "6      3074.470023\n",
       "7      3371.509654\n",
       "8     10743.928474\n",
       "9      4376.100909\n",
       "10    17031.780488\n",
       "11    29568.438202\n",
       "Name: AADT, dtype: float64"
      ]
     },
     "execution_count": 69,
     "metadata": {},
     "output_type": "execute_result"
    }
   ],
   "source": [
    "traffic_region_mean"
   ]
  },
  {
   "cell_type": "code",
   "execution_count": 70,
   "metadata": {},
   "outputs": [],
   "source": [
    "for index, value in traffic_region_mean.items():\n",
    "    bridge_data.loc[(bridge_data[\"region_code\"]) == (index), \"traffic_region_mean\"] = value"
   ]
  },
  {
   "cell_type": "code",
   "execution_count": 71,
   "metadata": {},
   "outputs": [
    {
     "data": {
      "text/html": [
       "<div>\n",
       "<style scoped>\n",
       "    .dataframe tbody tr th:only-of-type {\n",
       "        vertical-align: middle;\n",
       "    }\n",
       "\n",
       "    .dataframe tbody tr th {\n",
       "        vertical-align: top;\n",
       "    }\n",
       "\n",
       "    .dataframe thead th {\n",
       "        text-align: right;\n",
       "    }\n",
       "</style>\n",
       "<table border=\"1\" class=\"dataframe\">\n",
       "  <thead>\n",
       "    <tr style=\"text-align: right;\">\n",
       "      <th></th>\n",
       "      <th>region_code</th>\n",
       "      <th>county_name</th>\n",
       "      <th>municipality</th>\n",
       "      <th>location</th>\n",
       "      <th>route_carried_reference_marker</th>\n",
       "      <th>owner</th>\n",
       "      <th>year_built</th>\n",
       "      <th>date_last_inspected</th>\n",
       "      <th>status</th>\n",
       "      <th>condition_rating</th>\n",
       "      <th>traffic_region_mean</th>\n",
       "    </tr>\n",
       "  </thead>\n",
       "  <tbody>\n",
       "    <tr>\n",
       "      <th>0</th>\n",
       "      <td>1</td>\n",
       "      <td>Albany</td>\n",
       "      <td>Albany City</td>\n",
       "      <td>0.1 MI N JCT RTE 5 &amp; I90</td>\n",
       "      <td>5 X</td>\n",
       "      <td>City</td>\n",
       "      <td>1968</td>\n",
       "      <td>2014-09-04T00:00:00</td>\n",
       "      <td>N</td>\n",
       "      <td>5.211</td>\n",
       "      <td>7785.890191</td>\n",
       "    </tr>\n",
       "    <tr>\n",
       "      <th>1</th>\n",
       "      <td>1</td>\n",
       "      <td>Albany</td>\n",
       "      <td>Albany City</td>\n",
       "      <td>JCT US 9 &amp; PATROON CREEK</td>\n",
       "      <td>9   9 11081025</td>\n",
       "      <td>NYSDOT</td>\n",
       "      <td>1971</td>\n",
       "      <td>2015-10-27T00:00:00</td>\n",
       "      <td>N</td>\n",
       "      <td>4.750</td>\n",
       "      <td>7785.890191</td>\n",
       "    </tr>\n",
       "    <tr>\n",
       "      <th>2</th>\n",
       "      <td>1</td>\n",
       "      <td>Albany</td>\n",
       "      <td>Albany City</td>\n",
       "      <td>JCT RTE 9 &amp; I90</td>\n",
       "      <td>9   9 11081028</td>\n",
       "      <td>NYSDOT</td>\n",
       "      <td>1971</td>\n",
       "      <td>2015-07-08T00:00:00</td>\n",
       "      <td>FO</td>\n",
       "      <td>4.833</td>\n",
       "      <td>7785.890191</td>\n",
       "    </tr>\n",
       "    <tr>\n",
       "      <th>3</th>\n",
       "      <td>1</td>\n",
       "      <td>Albany</td>\n",
       "      <td>Albany City</td>\n",
       "      <td>DOWNTOWN ALBANY</td>\n",
       "      <td>9 X</td>\n",
       "      <td>NYSDOT</td>\n",
       "      <td>1969</td>\n",
       "      <td>2015-10-14T00:00:00</td>\n",
       "      <td>FO</td>\n",
       "      <td>4.403</td>\n",
       "      <td>7785.890191</td>\n",
       "    </tr>\n",
       "    <tr>\n",
       "      <th>4</th>\n",
       "      <td>1</td>\n",
       "      <td>Albany</td>\n",
       "      <td>Albany City</td>\n",
       "      <td>0.1 MI S JCT RT 9W &amp; I787</td>\n",
       "      <td>9W  9W11012007</td>\n",
       "      <td>NYSDOT</td>\n",
       "      <td>1966</td>\n",
       "      <td>2015-05-07T00:00:00</td>\n",
       "      <td>FO</td>\n",
       "      <td>4.328</td>\n",
       "      <td>7785.890191</td>\n",
       "    </tr>\n",
       "  </tbody>\n",
       "</table>\n",
       "</div>"
      ],
      "text/plain": [
       "   region_code county_name municipality                   location  \\\n",
       "0            1      Albany  Albany City   0.1 MI N JCT RTE 5 & I90   \n",
       "1            1      Albany  Albany City   JCT US 9 & PATROON CREEK   \n",
       "2            1      Albany  Albany City            JCT RTE 9 & I90   \n",
       "3            1      Albany  Albany City            DOWNTOWN ALBANY   \n",
       "4            1      Albany  Albany City  0.1 MI S JCT RT 9W & I787   \n",
       "\n",
       "  route_carried_reference_marker   owner  year_built  date_last_inspected  \\\n",
       "0                            5 X    City        1968  2014-09-04T00:00:00   \n",
       "1                 9   9 11081025  NYSDOT        1971  2015-10-27T00:00:00   \n",
       "2                 9   9 11081028  NYSDOT        1971  2015-07-08T00:00:00   \n",
       "3                            9 X  NYSDOT        1969  2015-10-14T00:00:00   \n",
       "4                 9W  9W11012007  NYSDOT        1966  2015-05-07T00:00:00   \n",
       "\n",
       "  status  condition_rating  traffic_region_mean  \n",
       "0      N             5.211          7785.890191  \n",
       "1      N             4.750          7785.890191  \n",
       "2     FO             4.833          7785.890191  \n",
       "3     FO             4.403          7785.890191  \n",
       "4     FO             4.328          7785.890191  "
      ]
     },
     "execution_count": 71,
     "metadata": {},
     "output_type": "execute_result"
    }
   ],
   "source": [
    "bridge_data.head()"
   ]
  },
  {
   "cell_type": "code",
   "execution_count": 72,
   "metadata": {},
   "outputs": [],
   "source": [
    "bridge_data_ready = bridge_data.drop([\"municipality\", \"location\", \"route_carried_reference_marker\", \"date_last_inspected\"], axis = 1)"
   ]
  },
  {
   "cell_type": "code",
   "execution_count": 73,
   "metadata": {},
   "outputs": [
    {
     "data": {
      "text/html": [
       "<div>\n",
       "<style scoped>\n",
       "    .dataframe tbody tr th:only-of-type {\n",
       "        vertical-align: middle;\n",
       "    }\n",
       "\n",
       "    .dataframe tbody tr th {\n",
       "        vertical-align: top;\n",
       "    }\n",
       "\n",
       "    .dataframe thead th {\n",
       "        text-align: right;\n",
       "    }\n",
       "</style>\n",
       "<table border=\"1\" class=\"dataframe\">\n",
       "  <thead>\n",
       "    <tr style=\"text-align: right;\">\n",
       "      <th></th>\n",
       "      <th>region_code</th>\n",
       "      <th>county_name</th>\n",
       "      <th>owner</th>\n",
       "      <th>year_built</th>\n",
       "      <th>status</th>\n",
       "      <th>condition_rating</th>\n",
       "      <th>traffic_region_mean</th>\n",
       "    </tr>\n",
       "  </thead>\n",
       "  <tbody>\n",
       "    <tr>\n",
       "      <th>0</th>\n",
       "      <td>1</td>\n",
       "      <td>Albany</td>\n",
       "      <td>City</td>\n",
       "      <td>1968</td>\n",
       "      <td>N</td>\n",
       "      <td>5.211</td>\n",
       "      <td>7785.890191</td>\n",
       "    </tr>\n",
       "    <tr>\n",
       "      <th>1</th>\n",
       "      <td>1</td>\n",
       "      <td>Albany</td>\n",
       "      <td>NYSDOT</td>\n",
       "      <td>1971</td>\n",
       "      <td>N</td>\n",
       "      <td>4.750</td>\n",
       "      <td>7785.890191</td>\n",
       "    </tr>\n",
       "    <tr>\n",
       "      <th>2</th>\n",
       "      <td>1</td>\n",
       "      <td>Albany</td>\n",
       "      <td>NYSDOT</td>\n",
       "      <td>1971</td>\n",
       "      <td>FO</td>\n",
       "      <td>4.833</td>\n",
       "      <td>7785.890191</td>\n",
       "    </tr>\n",
       "    <tr>\n",
       "      <th>3</th>\n",
       "      <td>1</td>\n",
       "      <td>Albany</td>\n",
       "      <td>NYSDOT</td>\n",
       "      <td>1969</td>\n",
       "      <td>FO</td>\n",
       "      <td>4.403</td>\n",
       "      <td>7785.890191</td>\n",
       "    </tr>\n",
       "    <tr>\n",
       "      <th>4</th>\n",
       "      <td>1</td>\n",
       "      <td>Albany</td>\n",
       "      <td>NYSDOT</td>\n",
       "      <td>1966</td>\n",
       "      <td>FO</td>\n",
       "      <td>4.328</td>\n",
       "      <td>7785.890191</td>\n",
       "    </tr>\n",
       "  </tbody>\n",
       "</table>\n",
       "</div>"
      ],
      "text/plain": [
       "   region_code county_name   owner  year_built status  condition_rating  \\\n",
       "0            1      Albany    City        1968      N             5.211   \n",
       "1            1      Albany  NYSDOT        1971      N             4.750   \n",
       "2            1      Albany  NYSDOT        1971     FO             4.833   \n",
       "3            1      Albany  NYSDOT        1969     FO             4.403   \n",
       "4            1      Albany  NYSDOT        1966     FO             4.328   \n",
       "\n",
       "   traffic_region_mean  \n",
       "0          7785.890191  \n",
       "1          7785.890191  \n",
       "2          7785.890191  \n",
       "3          7785.890191  \n",
       "4          7785.890191  "
      ]
     },
     "execution_count": 73,
     "metadata": {},
     "output_type": "execute_result"
    }
   ],
   "source": [
    "bridge_data_ready.head()"
   ]
  },
  {
   "cell_type": "code",
   "execution_count": 74,
   "metadata": {},
   "outputs": [
    {
     "data": {
      "text/plain": [
       "(17471, 7)"
      ]
     },
     "execution_count": 74,
     "metadata": {},
     "output_type": "execute_result"
    }
   ],
   "source": [
    "bridge_data_ready = bridge_data_ready.dropna()\n",
    "bridge_data_ready.shape"
   ]
  },
  {
   "cell_type": "code",
   "execution_count": 75,
   "metadata": {},
   "outputs": [],
   "source": [
    "bridge_features = bridge_data_ready.drop([\"condition_rating\"], axis = 1)\n",
    "bridge_labels = bridge_data_ready.condition_rating"
   ]
  },
  {
   "cell_type": "code",
   "execution_count": 76,
   "metadata": {},
   "outputs": [],
   "source": [
    "bridge_labels = bridge_labels.replace(np.array(bridge_labels[(bridge_labels) <= 5]), 0)\n",
    "bridge_labels = bridge_labels.replace(np.array(bridge_labels[(bridge_labels) > 5]), 1)"
   ]
  },
  {
   "cell_type": "code",
   "execution_count": 77,
   "metadata": {},
   "outputs": [],
   "source": [
    "bridge_features = pd.get_dummies(bridge_features)"
   ]
  },
  {
   "cell_type": "code",
   "execution_count": 78,
   "metadata": {},
   "outputs": [
    {
     "data": {
      "text/plain": [
       "(17471, 102)"
      ]
     },
     "execution_count": 78,
     "metadata": {},
     "output_type": "execute_result"
    }
   ],
   "source": [
    "bridge_features.shape"
   ]
  },
  {
   "cell_type": "code",
   "execution_count": 79,
   "metadata": {},
   "outputs": [],
   "source": [
    "bridge_features = MinMaxScaler(feature_range = (0, 1)).fit_transform(bridge_features)"
   ]
  },
  {
   "cell_type": "code",
   "execution_count": 80,
   "metadata": {},
   "outputs": [],
   "source": [
    "bridge_features_train, bridge_features_test, bridge_labels_train, bridge_labels_test = train_test_split(bridge_features, bridge_labels, train_size = 0.7, test_size = 0.3, random_state = 42, stratify = bridge_labels)"
   ]
  },
  {
   "cell_type": "markdown",
   "metadata": {},
   "source": [
    "### Машинно обучение"
   ]
  },
  {
   "cell_type": "markdown",
   "metadata": {},
   "source": [
    "#### Random Forest\n",
    "Оптимизирам хиперпараметрите (\"n_estimators\", \"max_depth\"), като изплзвам мрежата за търсене GridSearchCV в диапазона:\n",
    "* `n_estimators`: 200, 300, 400 \n",
    "* `max_depth`: 10, 20, 30"
   ]
  },
  {
   "cell_type": "code",
   "execution_count": 81,
   "metadata": {},
   "outputs": [],
   "source": [
    "tuned_params = [{\"n_estimators\": [200, 300, 400], \"max_depth\": [10, 20, 30]}]"
   ]
  },
  {
   "cell_type": "code",
   "execution_count": 82,
   "metadata": {},
   "outputs": [],
   "source": [
    "grid_search = GridSearchCV(RandomForestClassifier(), tuned_params)"
   ]
  },
  {
   "cell_type": "code",
   "execution_count": 83,
   "metadata": {},
   "outputs": [],
   "source": [
    "model_random_forest = grid_search.fit(bridge_features_train, bridge_labels_train)"
   ]
  },
  {
   "cell_type": "code",
   "execution_count": 84,
   "metadata": {},
   "outputs": [
    {
     "data": {
      "text/plain": [
       "RandomForestClassifier(bootstrap=True, class_weight=None, criterion='gini',\n",
       "            max_depth=20, max_features='auto', max_leaf_nodes=None,\n",
       "            min_impurity_decrease=0.0, min_impurity_split=None,\n",
       "            min_samples_leaf=1, min_samples_split=2,\n",
       "            min_weight_fraction_leaf=0.0, n_estimators=400, n_jobs=1,\n",
       "            oob_score=False, random_state=None, verbose=0,\n",
       "            warm_start=False)"
      ]
     },
     "execution_count": 84,
     "metadata": {},
     "output_type": "execute_result"
    }
   ],
   "source": [
    "model_random_forest.best_estimator_"
   ]
  },
  {
   "cell_type": "markdown",
   "metadata": {},
   "source": [
    "Хиперпараметърът (\"n_estimators\") ще го оптимизирам в нов диапазон:\n",
    "* `n_estimators`: 400, 600, 800"
   ]
  },
  {
   "cell_type": "code",
   "execution_count": 85,
   "metadata": {},
   "outputs": [],
   "source": [
    "tuned_params = [{\"n_estimators\": [400, 600, 800]}]"
   ]
  },
  {
   "cell_type": "code",
   "execution_count": 86,
   "metadata": {},
   "outputs": [],
   "source": [
    "grid_search = GridSearchCV(RandomForestClassifier(max_depth = 20), tuned_params)"
   ]
  },
  {
   "cell_type": "code",
   "execution_count": 87,
   "metadata": {},
   "outputs": [],
   "source": [
    "model_random_forest = grid_search.fit(bridge_features_train, bridge_labels_train)"
   ]
  },
  {
   "cell_type": "code",
   "execution_count": 88,
   "metadata": {},
   "outputs": [
    {
     "data": {
      "text/plain": [
       "RandomForestClassifier(bootstrap=True, class_weight=None, criterion='gini',\n",
       "            max_depth=20, max_features='auto', max_leaf_nodes=None,\n",
       "            min_impurity_decrease=0.0, min_impurity_split=None,\n",
       "            min_samples_leaf=1, min_samples_split=2,\n",
       "            min_weight_fraction_leaf=0.0, n_estimators=600, n_jobs=1,\n",
       "            oob_score=False, random_state=None, verbose=0,\n",
       "            warm_start=False)"
      ]
     },
     "execution_count": 88,
     "metadata": {},
     "output_type": "execute_result"
    }
   ],
   "source": [
    "model_random_forest.best_estimator_"
   ]
  },
  {
   "cell_type": "markdown",
   "metadata": {},
   "source": [
    "### Оценяване на Random forest\n",
    "#### 1. Accuracy - Точност (брой правилно класифицирани проби):"
   ]
  },
  {
   "cell_type": "code",
   "execution_count": 89,
   "metadata": {},
   "outputs": [
    {
     "name": "stdout",
     "output_type": "stream",
     "text": [
      "Random forest: 0.7531476535673407\n"
     ]
    }
   ],
   "source": [
    "forest_classifier_score = accuracy(bridge_labels_test, bridge_features_test, model_random_forest)\n",
    "print(\"Random forest:\", forest_classifier_score)"
   ]
  },
  {
   "cell_type": "markdown",
   "metadata": {},
   "source": [
    "#### 2. F1-score"
   ]
  },
  {
   "cell_type": "code",
   "execution_count": 90,
   "metadata": {},
   "outputs": [
    {
     "name": "stdout",
     "output_type": "stream",
     "text": [
      "Random forest: 0.8090882266155208\n"
     ]
    }
   ],
   "source": [
    "forest_classifier_score = f1(bridge_labels_test, bridge_features_test, model_random_forest)\n",
    "print(\"Random forest:\", forest_classifier_score)"
   ]
  },
  {
   "cell_type": "markdown",
   "metadata": {},
   "source": [
    "\n",
    "### Втори вариант - ще използвам променливите:\n",
    "* `municipality`\n",
    "* `\tAADT` - Средна годишна стойност на дневния трафик\n",
    "\n",
    "Взимам за всяка община средната стойност за AADT за всички години. Тук трафика е описан по-добре, но губя около 3 300 записа\n",
    "\n",
    "За да мога да ги обединя по общини правя записите и в двете таблици с малки символи"
   ]
  },
  {
   "cell_type": "markdown",
   "metadata": {},
   "source": [
    "### Подготовка на данни"
   ]
  },
  {
   "cell_type": "code",
   "execution_count": 91,
   "metadata": {},
   "outputs": [],
   "source": [
    "bridge_data.municipality = bridge_data.municipality.str.lower()"
   ]
  },
  {
   "cell_type": "code",
   "execution_count": 92,
   "metadata": {},
   "outputs": [],
   "source": [
    "bridge_data.municipality = bridge_data.municipality.str.partition(' ')[0]"
   ]
  },
  {
   "cell_type": "code",
   "execution_count": 93,
   "metadata": {},
   "outputs": [],
   "source": [
    "traffic_municipality_mean = traffic_data.groupby([\"Municipality\"])[\"AADT\"].mean()"
   ]
  },
  {
   "cell_type": "code",
   "execution_count": 94,
   "metadata": {},
   "outputs": [],
   "source": [
    "traffic_municipality_mean.index = traffic_municipality_mean.index.str.lower()"
   ]
  },
  {
   "cell_type": "code",
   "execution_count": 95,
   "metadata": {},
   "outputs": [
    {
     "data": {
      "text/plain": [
       "1270"
      ]
     },
     "execution_count": 95,
     "metadata": {},
     "output_type": "execute_result"
    }
   ],
   "source": [
    "len(traffic_municipality_mean.unique())"
   ]
  },
  {
   "cell_type": "code",
   "execution_count": 96,
   "metadata": {},
   "outputs": [],
   "source": [
    "for index, value in traffic_municipality_mean.items():\n",
    "    bridge_data.loc[(bridge_data[\"municipality\"]) == (index), \"traffic_municipality_mean\"] = value"
   ]
  },
  {
   "cell_type": "code",
   "execution_count": 97,
   "metadata": {},
   "outputs": [
    {
     "data": {
      "text/plain": [
       "979"
      ]
     },
     "execution_count": 97,
     "metadata": {},
     "output_type": "execute_result"
    }
   ],
   "source": [
    "len(bridge_data.traffic_municipality_mean.unique())"
   ]
  },
  {
   "cell_type": "code",
   "execution_count": 98,
   "metadata": {},
   "outputs": [],
   "source": [
    "bridge_data_ready = bridge_data.drop([\"municipality\", \"location\", \"route_carried_reference_marker\", \"date_last_inspected\", \"traffic_region_mean\"], axis = 1)"
   ]
  },
  {
   "cell_type": "code",
   "execution_count": 102,
   "metadata": {},
   "outputs": [],
   "source": [
    "bridge_data_ready = bridge_data_ready.dropna()"
   ]
  },
  {
   "cell_type": "code",
   "execution_count": 100,
   "metadata": {},
   "outputs": [
    {
     "data": {
      "text/plain": [
       "(14176, 12)"
      ]
     },
     "execution_count": 100,
     "metadata": {},
     "output_type": "execute_result"
    }
   ],
   "source": [
    "bridge_data.shape"
   ]
  },
  {
   "cell_type": "code",
   "execution_count": 103,
   "metadata": {},
   "outputs": [
    {
     "data": {
      "text/html": [
       "<div>\n",
       "<style scoped>\n",
       "    .dataframe tbody tr th:only-of-type {\n",
       "        vertical-align: middle;\n",
       "    }\n",
       "\n",
       "    .dataframe tbody tr th {\n",
       "        vertical-align: top;\n",
       "    }\n",
       "\n",
       "    .dataframe thead th {\n",
       "        text-align: right;\n",
       "    }\n",
       "</style>\n",
       "<table border=\"1\" class=\"dataframe\">\n",
       "  <thead>\n",
       "    <tr style=\"text-align: right;\">\n",
       "      <th></th>\n",
       "      <th>region_code</th>\n",
       "      <th>county_name</th>\n",
       "      <th>owner</th>\n",
       "      <th>year_built</th>\n",
       "      <th>status</th>\n",
       "      <th>condition_rating</th>\n",
       "      <th>traffic_municipality_mean</th>\n",
       "    </tr>\n",
       "  </thead>\n",
       "  <tbody>\n",
       "    <tr>\n",
       "      <th>0</th>\n",
       "      <td>1</td>\n",
       "      <td>Albany</td>\n",
       "      <td>City</td>\n",
       "      <td>1968</td>\n",
       "      <td>N</td>\n",
       "      <td>5.211</td>\n",
       "      <td>16261.549645</td>\n",
       "    </tr>\n",
       "    <tr>\n",
       "      <th>1</th>\n",
       "      <td>1</td>\n",
       "      <td>Albany</td>\n",
       "      <td>NYSDOT</td>\n",
       "      <td>1971</td>\n",
       "      <td>N</td>\n",
       "      <td>4.750</td>\n",
       "      <td>16261.549645</td>\n",
       "    </tr>\n",
       "    <tr>\n",
       "      <th>2</th>\n",
       "      <td>1</td>\n",
       "      <td>Albany</td>\n",
       "      <td>NYSDOT</td>\n",
       "      <td>1971</td>\n",
       "      <td>FO</td>\n",
       "      <td>4.833</td>\n",
       "      <td>16261.549645</td>\n",
       "    </tr>\n",
       "    <tr>\n",
       "      <th>3</th>\n",
       "      <td>1</td>\n",
       "      <td>Albany</td>\n",
       "      <td>NYSDOT</td>\n",
       "      <td>1969</td>\n",
       "      <td>FO</td>\n",
       "      <td>4.403</td>\n",
       "      <td>16261.549645</td>\n",
       "    </tr>\n",
       "    <tr>\n",
       "      <th>4</th>\n",
       "      <td>1</td>\n",
       "      <td>Albany</td>\n",
       "      <td>NYSDOT</td>\n",
       "      <td>1966</td>\n",
       "      <td>FO</td>\n",
       "      <td>4.328</td>\n",
       "      <td>16261.549645</td>\n",
       "    </tr>\n",
       "  </tbody>\n",
       "</table>\n",
       "</div>"
      ],
      "text/plain": [
       "   region_code county_name   owner  year_built status  condition_rating  \\\n",
       "0            1      Albany    City        1968      N             5.211   \n",
       "1            1      Albany  NYSDOT        1971      N             4.750   \n",
       "2            1      Albany  NYSDOT        1971     FO             4.833   \n",
       "3            1      Albany  NYSDOT        1969     FO             4.403   \n",
       "4            1      Albany  NYSDOT        1966     FO             4.328   \n",
       "\n",
       "   traffic_municipality_mean  \n",
       "0               16261.549645  \n",
       "1               16261.549645  \n",
       "2               16261.549645  \n",
       "3               16261.549645  \n",
       "4               16261.549645  "
      ]
     },
     "execution_count": 103,
     "metadata": {},
     "output_type": "execute_result"
    }
   ],
   "source": [
    "bridge_data_ready.head()"
   ]
  },
  {
   "cell_type": "code",
   "execution_count": 104,
   "metadata": {},
   "outputs": [
    {
     "data": {
      "text/plain": [
       "(14176, 7)"
      ]
     },
     "execution_count": 104,
     "metadata": {},
     "output_type": "execute_result"
    }
   ],
   "source": [
    "bridge_data_ready.shape"
   ]
  },
  {
   "cell_type": "code",
   "execution_count": 105,
   "metadata": {},
   "outputs": [],
   "source": [
    "bridge_features = bridge_data_ready.drop([\"condition_rating\"], axis = 1)\n",
    "bridge_labels = bridge_data_ready.condition_rating"
   ]
  },
  {
   "cell_type": "code",
   "execution_count": 106,
   "metadata": {},
   "outputs": [],
   "source": [
    "bridge_labels = bridge_labels.replace(np.array(bridge_labels[(bridge_labels) <= 5]), 0)\n",
    "bridge_labels = bridge_labels.replace(np.array(bridge_labels[(bridge_labels) > 5]), 1)"
   ]
  },
  {
   "cell_type": "code",
   "execution_count": 107,
   "metadata": {},
   "outputs": [
    {
     "data": {
      "text/plain": [
       "(14176, 92)"
      ]
     },
     "execution_count": 107,
     "metadata": {},
     "output_type": "execute_result"
    }
   ],
   "source": [
    "bridge_features = pd.get_dummies(bridge_features)\n",
    "bridge_features.shape"
   ]
  },
  {
   "cell_type": "code",
   "execution_count": 108,
   "metadata": {},
   "outputs": [],
   "source": [
    "bridge_features = MinMaxScaler(feature_range = (0, 1)).fit_transform(bridge_features)"
   ]
  },
  {
   "cell_type": "code",
   "execution_count": 109,
   "metadata": {},
   "outputs": [],
   "source": [
    "bridge_features_train, bridge_features_test, bridge_labels_train, bridge_labels_test = train_test_split(bridge_features, bridge_labels, train_size = 0.7, test_size = 0.3, random_state = 42, stratify = bridge_labels)"
   ]
  },
  {
   "cell_type": "markdown",
   "metadata": {},
   "source": [
    "### Машинно обучение"
   ]
  },
  {
   "cell_type": "markdown",
   "metadata": {},
   "source": [
    "#### Random Forest\n",
    "Оптимизирам хиперпараметрите (\"n_estimators\", \"max_depth\"), като изплзвам мрежата за търсене GridSearchCV в диапазона:\n",
    "* `n_estimators`: 300, 400, 500\n",
    "* `max_depth`: 10, 20, 30"
   ]
  },
  {
   "cell_type": "code",
   "execution_count": 110,
   "metadata": {},
   "outputs": [],
   "source": [
    "tuned_params = [{\"n_estimators\": [300, 400, 500], \"max_depth\": [10, 20, 30]}]"
   ]
  },
  {
   "cell_type": "code",
   "execution_count": 111,
   "metadata": {},
   "outputs": [],
   "source": [
    "grid_search = GridSearchCV(RandomForestClassifier(), tuned_params)"
   ]
  },
  {
   "cell_type": "code",
   "execution_count": 112,
   "metadata": {},
   "outputs": [],
   "source": [
    "model_random_forest = grid_search.fit(bridge_features_train, bridge_labels_train)"
   ]
  },
  {
   "cell_type": "code",
   "execution_count": 113,
   "metadata": {},
   "outputs": [
    {
     "data": {
      "text/plain": [
       "RandomForestClassifier(bootstrap=True, class_weight=None, criterion='gini',\n",
       "            max_depth=20, max_features='auto', max_leaf_nodes=None,\n",
       "            min_impurity_decrease=0.0, min_impurity_split=None,\n",
       "            min_samples_leaf=1, min_samples_split=2,\n",
       "            min_weight_fraction_leaf=0.0, n_estimators=300, n_jobs=1,\n",
       "            oob_score=False, random_state=None, verbose=0,\n",
       "            warm_start=False)"
      ]
     },
     "execution_count": 113,
     "metadata": {},
     "output_type": "execute_result"
    }
   ],
   "source": [
    "model_random_forest.best_estimator_"
   ]
  },
  {
   "cell_type": "markdown",
   "metadata": {},
   "source": [
    "Хиперпараметърът (\"n_estimators\") ще го оптимизирам в нов диапазон:\n",
    "* `n_estimators`: 200, 300, 400"
   ]
  },
  {
   "cell_type": "code",
   "execution_count": 114,
   "metadata": {},
   "outputs": [],
   "source": [
    "tuned_params = [{\"n_estimators\": [200, 300, 400]}]"
   ]
  },
  {
   "cell_type": "code",
   "execution_count": 115,
   "metadata": {},
   "outputs": [],
   "source": [
    "grid_search = GridSearchCV(RandomForestClassifier(max_depth = 20), tuned_params)"
   ]
  },
  {
   "cell_type": "code",
   "execution_count": 116,
   "metadata": {},
   "outputs": [],
   "source": [
    "model_random_forest = grid_search.fit(bridge_features_train, bridge_labels_train)"
   ]
  },
  {
   "cell_type": "code",
   "execution_count": 117,
   "metadata": {},
   "outputs": [
    {
     "data": {
      "text/plain": [
       "RandomForestClassifier(bootstrap=True, class_weight=None, criterion='gini',\n",
       "            max_depth=20, max_features='auto', max_leaf_nodes=None,\n",
       "            min_impurity_decrease=0.0, min_impurity_split=None,\n",
       "            min_samples_leaf=1, min_samples_split=2,\n",
       "            min_weight_fraction_leaf=0.0, n_estimators=400, n_jobs=1,\n",
       "            oob_score=False, random_state=None, verbose=0,\n",
       "            warm_start=False)"
      ]
     },
     "execution_count": 117,
     "metadata": {},
     "output_type": "execute_result"
    }
   ],
   "source": [
    "model_random_forest.best_estimator_"
   ]
  },
  {
   "cell_type": "markdown",
   "metadata": {},
   "source": [
    "Хиперпараметърът (\"n_estimators\") ще го оптимизирам в нов диапазон:\n",
    "* `n_estimators`: 300, 400, 500, 600, 700"
   ]
  },
  {
   "cell_type": "code",
   "execution_count": 121,
   "metadata": {},
   "outputs": [],
   "source": [
    "tuned_params = [{\"n_estimators\": [300, 400, 500, 600, 700]}]"
   ]
  },
  {
   "cell_type": "code",
   "execution_count": 122,
   "metadata": {},
   "outputs": [],
   "source": [
    "grid_search = GridSearchCV(RandomForestClassifier(max_depth = 20), tuned_params)"
   ]
  },
  {
   "cell_type": "code",
   "execution_count": 123,
   "metadata": {},
   "outputs": [],
   "source": [
    "model_random_forest = grid_search.fit(bridge_features_train, bridge_labels_train)"
   ]
  },
  {
   "cell_type": "code",
   "execution_count": 124,
   "metadata": {},
   "outputs": [
    {
     "data": {
      "text/plain": [
       "RandomForestClassifier(bootstrap=True, class_weight=None, criterion='gini',\n",
       "            max_depth=20, max_features='auto', max_leaf_nodes=None,\n",
       "            min_impurity_decrease=0.0, min_impurity_split=None,\n",
       "            min_samples_leaf=1, min_samples_split=2,\n",
       "            min_weight_fraction_leaf=0.0, n_estimators=400, n_jobs=1,\n",
       "            oob_score=False, random_state=None, verbose=0,\n",
       "            warm_start=False)"
      ]
     },
     "execution_count": 124,
     "metadata": {},
     "output_type": "execute_result"
    }
   ],
   "source": [
    "model_random_forest.best_estimator_"
   ]
  },
  {
   "cell_type": "markdown",
   "metadata": {},
   "source": [
    "### Оценяване на Random forest\n",
    "#### 1. Accuracy - Точност (брой правилно класифицирани проби):"
   ]
  },
  {
   "cell_type": "code",
   "execution_count": 125,
   "metadata": {},
   "outputs": [
    {
     "name": "stdout",
     "output_type": "stream",
     "text": [
      "Random forest: 0.7575828826710558\n"
     ]
    }
   ],
   "source": [
    "forest_classifier_score = accuracy(bridge_labels_test, bridge_features_test, model_random_forest)\n",
    "print(\"Random forest:\", forest_classifier_score)"
   ]
  },
  {
   "cell_type": "markdown",
   "metadata": {},
   "source": [
    "#### 2. F1-score"
   ]
  },
  {
   "cell_type": "code",
   "execution_count": 126,
   "metadata": {},
   "outputs": [
    {
     "name": "stdout",
     "output_type": "stream",
     "text": [
      "Random forest: 0.8205395996518713\n"
     ]
    }
   ],
   "source": [
    "forest_classifier_score = f1(bridge_labels_test, bridge_features_test, model_random_forest)\n",
    "print(\"Random forest:\", forest_classifier_score)"
   ]
  },
  {
   "cell_type": "markdown",
   "metadata": {},
   "source": [
    "### Извод: \n",
    "От обучените алгоритми най-добрия е Random forest. След като добавих още една променлива(трафик) резултатите не се подобриха значително, но в първия случай трафика не описва добре съоръженията. Във втория случай след като описвам средния среднодневен трафик за общинете изгубих доста данни.\n",
    "\n",
    "Как бихме могли да подобрим резултатите?\n",
    "\n",
    "1. Да оставим категорийните променливи, но обучението ще бъде много бавно\n",
    "2. Данните за трафика може да се вземат за предходната година и ако е възможно да описват съответната улица на съоръжението без да се губят данни."
   ]
  }
 ],
 "metadata": {
  "kernelspec": {
   "display_name": "Python 3",
   "language": "python",
   "name": "python3"
  },
  "language_info": {
   "codemirror_mode": {
    "name": "ipython",
    "version": 3
   },
   "file_extension": ".py",
   "mimetype": "text/x-python",
   "name": "python",
   "nbconvert_exporter": "python",
   "pygments_lexer": "ipython3",
   "version": "3.7.1"
  }
 },
 "nbformat": 4,
 "nbformat_minor": 2
}
